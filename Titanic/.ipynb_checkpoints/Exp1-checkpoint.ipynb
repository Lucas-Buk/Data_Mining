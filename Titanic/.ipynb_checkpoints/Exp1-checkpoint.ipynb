{
 "cells": [
  {
   "cell_type": "code",
   "execution_count": 13,
   "id": "ignored-binding",
   "metadata": {},
   "outputs": [
    {
     "name": "stdout",
     "output_type": "stream",
     "text": [
      "Requirement already satisfied: black==v19.10b0 in c:\\users\\lucas\\anaconda3\\envs\\titanic\\lib\\site-packages (from -r ../src/requirements.txt (line 1)) (19.10b0)\n",
      "Requirement already satisfied: flake8<4.0,>=3.7.9 in c:\\users\\lucas\\anaconda3\\envs\\titanic\\lib\\site-packages (from -r ../src/requirements.txt (line 2)) (3.9.0)\n",
      "Requirement already satisfied: ipython==7.10 in c:\\users\\lucas\\anaconda3\\envs\\titanic\\lib\\site-packages (from -r ../src/requirements.txt (line 3)) (7.10.0)\n",
      "Requirement already satisfied: isort<5.0,>=4.3.21 in c:\\users\\lucas\\anaconda3\\envs\\titanic\\lib\\site-packages (from -r ../src/requirements.txt (line 4)) (4.3.21)\n",
      "Requirement already satisfied: jupyter~=1.0 in c:\\users\\lucas\\anaconda3\\envs\\titanic\\lib\\site-packages (from -r ../src/requirements.txt (line 5)) (1.0.0)\n",
      "Requirement already satisfied: jupyter_client<7.0,>=5.1 in c:\\users\\lucas\\anaconda3\\envs\\titanic\\lib\\site-packages (from -r ../src/requirements.txt (line 6)) (6.1.12)\n",
      "Requirement already satisfied: jupyterlab==0.31.1 in c:\\users\\lucas\\anaconda3\\envs\\titanic\\lib\\site-packages (from -r ../src/requirements.txt (line 7)) (0.31.1)\n",
      "Requirement already satisfied: kedro==0.17.2 in c:\\users\\lucas\\anaconda3\\envs\\titanic\\lib\\site-packages (from -r ../src/requirements.txt (line 8)) (0.17.2)\n",
      "Requirement already satisfied: nbstripout==0.3.3 in c:\\users\\lucas\\anaconda3\\envs\\titanic\\lib\\site-packages (from -r ../src/requirements.txt (line 9)) (0.3.3)\n",
      "Requirement already satisfied: pytest-cov~=2.5 in c:\\users\\lucas\\anaconda3\\envs\\titanic\\lib\\site-packages (from -r ../src/requirements.txt (line 10)) (2.11.1)\n",
      "Requirement already satisfied: pytest-mock<2.0,>=1.7.1 in c:\\users\\lucas\\anaconda3\\envs\\titanic\\lib\\site-packages (from -r ../src/requirements.txt (line 11)) (1.13.0)\n",
      "Requirement already satisfied: pytest~=6.1.2 in c:\\users\\lucas\\anaconda3\\envs\\titanic\\lib\\site-packages (from -r ../src/requirements.txt (line 12)) (6.1.2)\n",
      "Requirement already satisfied: wheel==0.32.2 in c:\\users\\lucas\\anaconda3\\envs\\titanic\\lib\\site-packages (from -r ../src/requirements.txt (line 13)) (0.32.2)\n",
      "Requirement already satisfied: pandas in c:\\users\\lucas\\anaconda3\\envs\\titanic\\lib\\site-packages (from -r ../src/requirements.txt (line 14)) (1.1.5)\n",
      "Requirement already satisfied: sklearn in c:\\users\\lucas\\anaconda3\\envs\\titanic\\lib\\site-packages (from -r ../src/requirements.txt (line 15)) (0.0)\n",
      "Requirement already satisfied: xgboost in c:\\users\\lucas\\anaconda3\\envs\\titanic\\lib\\site-packages (from -r ../src/requirements.txt (line 16)) (1.3.3)\n",
      "Requirement already satisfied: matplotlib in c:\\users\\lucas\\anaconda3\\envs\\titanic\\lib\\site-packages (from -r ../src/requirements.txt (line 17)) (3.3.4)\n",
      "Collecting imblearn\n",
      "  Downloading imblearn-0.0-py2.py3-none-any.whl (1.9 kB)\n",
      "Requirement already satisfied: typed-ast>=1.4.0 in c:\\users\\lucas\\anaconda3\\envs\\titanic\\lib\\site-packages (from black==v19.10b0->-r ../src/requirements.txt (line 1)) (1.4.2)\n",
      "Requirement already satisfied: attrs>=18.1.0 in c:\\users\\lucas\\anaconda3\\envs\\titanic\\lib\\site-packages (from black==v19.10b0->-r ../src/requirements.txt (line 1)) (20.3.0)\n",
      "Requirement already satisfied: toml>=0.9.4 in c:\\users\\lucas\\anaconda3\\envs\\titanic\\lib\\site-packages (from black==v19.10b0->-r ../src/requirements.txt (line 1)) (0.10.2)\n",
      "Requirement already satisfied: click>=6.5 in c:\\users\\lucas\\anaconda3\\envs\\titanic\\lib\\site-packages (from black==v19.10b0->-r ../src/requirements.txt (line 1)) (7.1.2)\n",
      "Requirement already satisfied: appdirs in c:\\users\\lucas\\anaconda3\\envs\\titanic\\lib\\site-packages (from black==v19.10b0->-r ../src/requirements.txt (line 1)) (1.4.4)\n",
      "Requirement already satisfied: regex in c:\\users\\lucas\\anaconda3\\envs\\titanic\\lib\\site-packages (from black==v19.10b0->-r ../src/requirements.txt (line 1)) (2021.3.17)\n",
      "Requirement already satisfied: pathspec<1,>=0.6 in c:\\users\\lucas\\anaconda3\\envs\\titanic\\lib\\site-packages (from black==v19.10b0->-r ../src/requirements.txt (line 1)) (0.8.1)\n",
      "Requirement already satisfied: traitlets>=4.2 in c:\\users\\lucas\\anaconda3\\envs\\titanic\\lib\\site-packages (from ipython==7.10->-r ../src/requirements.txt (line 3)) (5.0.5)\n",
      "Requirement already satisfied: prompt-toolkit<3.1.0,>=2.0.0 in c:\\users\\lucas\\anaconda3\\envs\\titanic\\lib\\site-packages (from ipython==7.10->-r ../src/requirements.txt (line 3)) (3.0.17)\n",
      "Requirement already satisfied: backcall in c:\\users\\lucas\\anaconda3\\envs\\titanic\\lib\\site-packages (from ipython==7.10->-r ../src/requirements.txt (line 3)) (0.2.0)\n",
      "Requirement already satisfied: pygments in c:\\users\\lucas\\anaconda3\\envs\\titanic\\lib\\site-packages (from ipython==7.10->-r ../src/requirements.txt (line 3)) (2.8.1)\n",
      "Requirement already satisfied: pickleshare in c:\\users\\lucas\\anaconda3\\envs\\titanic\\lib\\site-packages (from ipython==7.10->-r ../src/requirements.txt (line 3)) (0.7.5)\n",
      "Requirement already satisfied: jedi>=0.10 in c:\\users\\lucas\\anaconda3\\envs\\titanic\\lib\\site-packages (from ipython==7.10->-r ../src/requirements.txt (line 3)) (0.18.0)\n",
      "Requirement already satisfied: decorator in c:\\users\\lucas\\anaconda3\\envs\\titanic\\lib\\site-packages (from ipython==7.10->-r ../src/requirements.txt (line 3)) (4.4.2)\n",
      "Requirement already satisfied: setuptools>=18.5 in c:\\users\\lucas\\anaconda3\\envs\\titanic\\lib\\site-packages (from ipython==7.10->-r ../src/requirements.txt (line 3)) (52.0.0.post20210125)\n",
      "Requirement already satisfied: colorama in c:\\users\\lucas\\anaconda3\\envs\\titanic\\lib\\site-packages (from ipython==7.10->-r ../src/requirements.txt (line 3)) (0.4.4)\n",
      "Requirement already satisfied: ipython-genutils in c:\\users\\lucas\\anaconda3\\envs\\titanic\\lib\\site-packages (from jupyterlab==0.31.1->-r ../src/requirements.txt (line 7)) (0.2.0)\n",
      "Requirement already satisfied: notebook>=4.3.1 in c:\\users\\lucas\\anaconda3\\envs\\titanic\\lib\\site-packages (from jupyterlab==0.31.1->-r ../src/requirements.txt (line 7)) (6.2.0)\n",
      "Requirement already satisfied: jupyterlab-launcher<0.11.0,>=0.10.0 in c:\\users\\lucas\\anaconda3\\envs\\titanic\\lib\\site-packages (from jupyterlab==0.31.1->-r ../src/requirements.txt (line 7)) (0.10.5)\n",
      "Requirement already satisfied: jmespath<1.0,>=0.9.5 in c:\\users\\lucas\\anaconda3\\envs\\titanic\\lib\\site-packages (from kedro==0.17.2->-r ../src/requirements.txt (line 8)) (0.10.0)\n",
      "Requirement already satisfied: gitpython~=3.0 in c:\\users\\lucas\\anaconda3\\envs\\titanic\\lib\\site-packages (from kedro==0.17.2->-r ../src/requirements.txt (line 8)) (3.1.14)\n",
      "Requirement already satisfied: pip-tools~=5.0 in c:\\users\\lucas\\anaconda3\\envs\\titanic\\lib\\site-packages (from kedro==0.17.2->-r ../src/requirements.txt (line 8)) (5.5.0)\n",
      "Requirement already satisfied: pluggy~=0.13.0 in c:\\users\\lucas\\anaconda3\\envs\\titanic\\lib\\site-packages (from kedro==0.17.2->-r ../src/requirements.txt (line 8)) (0.13.1)\n",
      "Requirement already satisfied: fsspec<0.9,>=0.5.1 in c:\\users\\lucas\\anaconda3\\envs\\titanic\\lib\\site-packages (from kedro==0.17.2->-r ../src/requirements.txt (line 8)) (0.8.7)\n",
      "Requirement already satisfied: python-json-logger~=0.1.9 in c:\\users\\lucas\\anaconda3\\envs\\titanic\\lib\\site-packages (from kedro==0.17.2->-r ../src/requirements.txt (line 8)) (0.1.11)\n",
      "Requirement already satisfied: cachetools~=4.1 in c:\\users\\lucas\\anaconda3\\envs\\titanic\\lib\\site-packages (from kedro==0.17.2->-r ../src/requirements.txt (line 8)) (4.2.1)\n",
      "Requirement already satisfied: anyconfig~=0.10.0 in c:\\users\\lucas\\anaconda3\\envs\\titanic\\lib\\site-packages (from kedro==0.17.2->-r ../src/requirements.txt (line 8)) (0.10.0)\n",
      "Requirement already satisfied: dynaconf~=3.1.2 in c:\\users\\lucas\\anaconda3\\envs\\titanic\\lib\\site-packages (from kedro==0.17.2->-r ../src/requirements.txt (line 8)) (3.1.4)\n",
      "Requirement already satisfied: toposort~=1.5 in c:\\users\\lucas\\anaconda3\\envs\\titanic\\lib\\site-packages (from kedro==0.17.2->-r ../src/requirements.txt (line 8)) (1.6)\n",
      "Requirement already satisfied: cookiecutter~=1.7.0 in c:\\users\\lucas\\anaconda3\\envs\\titanic\\lib\\site-packages (from kedro==0.17.2->-r ../src/requirements.txt (line 8)) (1.7.2)\n",
      "Requirement already satisfied: PyYAML<6.0,>=4.2 in c:\\users\\lucas\\anaconda3\\envs\\titanic\\lib\\site-packages (from kedro==0.17.2->-r ../src/requirements.txt (line 8)) (5.4.1)\n",
      "Requirement already satisfied: nbformat in c:\\users\\lucas\\anaconda3\\envs\\titanic\\lib\\site-packages (from nbstripout==0.3.3->-r ../src/requirements.txt (line 9)) (5.1.2)\n",
      "Requirement already satisfied: pyflakes<2.4.0,>=2.3.0 in c:\\users\\lucas\\anaconda3\\envs\\titanic\\lib\\site-packages (from flake8<4.0,>=3.7.9->-r ../src/requirements.txt (line 2)) (2.3.0)\n",
      "Requirement already satisfied: mccabe<0.7.0,>=0.6.0 in c:\\users\\lucas\\anaconda3\\envs\\titanic\\lib\\site-packages (from flake8<4.0,>=3.7.9->-r ../src/requirements.txt (line 2)) (0.6.1)\n",
      "Requirement already satisfied: pycodestyle<2.8.0,>=2.7.0 in c:\\users\\lucas\\anaconda3\\envs\\titanic\\lib\\site-packages (from flake8<4.0,>=3.7.9->-r ../src/requirements.txt (line 2)) (2.7.0)\n",
      "Requirement already satisfied: importlib-metadata in c:\\users\\lucas\\anaconda3\\envs\\titanic\\lib\\site-packages (from flake8<4.0,>=3.7.9->-r ../src/requirements.txt (line 2)) (3.7.3)\n",
      "Requirement already satisfied: nbconvert in c:\\users\\lucas\\anaconda3\\envs\\titanic\\lib\\site-packages (from jupyter~=1.0->-r ../src/requirements.txt (line 5)) (6.0.7)\n",
      "Requirement already satisfied: qtconsole in c:\\users\\lucas\\anaconda3\\envs\\titanic\\lib\\site-packages (from jupyter~=1.0->-r ../src/requirements.txt (line 5)) (5.0.3)\n",
      "Requirement already satisfied: ipywidgets in c:\\users\\lucas\\anaconda3\\envs\\titanic\\lib\\site-packages (from jupyter~=1.0->-r ../src/requirements.txt (line 5)) (7.6.3)\n",
      "Requirement already satisfied: ipykernel in c:\\users\\lucas\\anaconda3\\envs\\titanic\\lib\\site-packages (from jupyter~=1.0->-r ../src/requirements.txt (line 5)) (5.5.0)\n",
      "Requirement already satisfied: jupyter-console in c:\\users\\lucas\\anaconda3\\envs\\titanic\\lib\\site-packages (from jupyter~=1.0->-r ../src/requirements.txt (line 5)) (6.3.0)\n",
      "Requirement already satisfied: pyzmq>=13 in c:\\users\\lucas\\anaconda3\\envs\\titanic\\lib\\site-packages (from jupyter_client<7.0,>=5.1->-r ../src/requirements.txt (line 6)) (22.0.3)\n",
      "Requirement already satisfied: tornado>=4.1 in c:\\users\\lucas\\anaconda3\\envs\\titanic\\lib\\site-packages (from jupyter_client<7.0,>=5.1->-r ../src/requirements.txt (line 6)) (6.1)\n",
      "Requirement already satisfied: jupyter-core>=4.6.0 in c:\\users\\lucas\\anaconda3\\envs\\titanic\\lib\\site-packages (from jupyter_client<7.0,>=5.1->-r ../src/requirements.txt (line 6)) (4.7.1)\n",
      "Requirement already satisfied: python-dateutil>=2.1 in c:\\users\\lucas\\anaconda3\\envs\\titanic\\lib\\site-packages (from jupyter_client<7.0,>=5.1->-r ../src/requirements.txt (line 6)) (2.8.1)\n",
      "Requirement already satisfied: packaging in c:\\users\\lucas\\anaconda3\\envs\\titanic\\lib\\site-packages (from pytest~=6.1.2->-r ../src/requirements.txt (line 12)) (20.9)\n",
      "Requirement already satisfied: py>=1.8.2 in c:\\users\\lucas\\anaconda3\\envs\\titanic\\lib\\site-packages (from pytest~=6.1.2->-r ../src/requirements.txt (line 12)) (1.10.0)\n",
      "Requirement already satisfied: atomicwrites>=1.0 in c:\\users\\lucas\\anaconda3\\envs\\titanic\\lib\\site-packages (from pytest~=6.1.2->-r ../src/requirements.txt (line 12)) (1.4.0)\n",
      "Requirement already satisfied: iniconfig in c:\\users\\lucas\\anaconda3\\envs\\titanic\\lib\\site-packages (from pytest~=6.1.2->-r ../src/requirements.txt (line 12)) (1.1.1)\n",
      "Requirement already satisfied: coverage>=5.2.1 in c:\\users\\lucas\\anaconda3\\envs\\titanic\\lib\\site-packages (from pytest-cov~=2.5->-r ../src/requirements.txt (line 10)) (5.5)\n",
      "Requirement already satisfied: Jinja2<3.0.0 in c:\\users\\lucas\\anaconda3\\envs\\titanic\\lib\\site-packages (from cookiecutter~=1.7.0->kedro==0.17.2->-r ../src/requirements.txt (line 8)) (2.11.3)\n",
      "Requirement already satisfied: python-slugify>=4.0.0 in c:\\users\\lucas\\anaconda3\\envs\\titanic\\lib\\site-packages (from cookiecutter~=1.7.0->kedro==0.17.2->-r ../src/requirements.txt (line 8)) (4.0.1)\n",
      "Requirement already satisfied: six>=1.10 in c:\\users\\lucas\\anaconda3\\envs\\titanic\\lib\\site-packages (from cookiecutter~=1.7.0->kedro==0.17.2->-r ../src/requirements.txt (line 8)) (1.15.0)\n",
      "Requirement already satisfied: binaryornot>=0.4.4 in c:\\users\\lucas\\anaconda3\\envs\\titanic\\lib\\site-packages (from cookiecutter~=1.7.0->kedro==0.17.2->-r ../src/requirements.txt (line 8)) (0.4.4)\n",
      "Requirement already satisfied: requests>=2.23.0 in c:\\users\\lucas\\anaconda3\\envs\\titanic\\lib\\site-packages (from cookiecutter~=1.7.0->kedro==0.17.2->-r ../src/requirements.txt (line 8)) (2.25.1)\n",
      "Requirement already satisfied: poyo>=0.5.0 in c:\\users\\lucas\\anaconda3\\envs\\titanic\\lib\\site-packages (from cookiecutter~=1.7.0->kedro==0.17.2->-r ../src/requirements.txt (line 8)) (0.5.0)\n",
      "Requirement already satisfied: MarkupSafe<2.0.0 in c:\\users\\lucas\\anaconda3\\envs\\titanic\\lib\\site-packages (from cookiecutter~=1.7.0->kedro==0.17.2->-r ../src/requirements.txt (line 8)) (1.1.1)\n",
      "Requirement already satisfied: jinja2-time>=0.2.0 in c:\\users\\lucas\\anaconda3\\envs\\titanic\\lib\\site-packages (from cookiecutter~=1.7.0->kedro==0.17.2->-r ../src/requirements.txt (line 8)) (0.2.0)\n",
      "Requirement already satisfied: chardet>=3.0.2 in c:\\users\\lucas\\anaconda3\\envs\\titanic\\lib\\site-packages (from binaryornot>=0.4.4->cookiecutter~=1.7.0->kedro==0.17.2->-r ../src/requirements.txt (line 8)) (4.0.0)\n",
      "Requirement already satisfied: gitdb<5,>=4.0.1 in c:\\users\\lucas\\anaconda3\\envs\\titanic\\lib\\site-packages (from gitpython~=3.0->kedro==0.17.2->-r ../src/requirements.txt (line 8)) (4.0.5)\n",
      "Requirement already satisfied: smmap<4,>=3.0.1 in c:\\users\\lucas\\anaconda3\\envs\\titanic\\lib\\site-packages (from gitdb<5,>=4.0.1->gitpython~=3.0->kedro==0.17.2->-r ../src/requirements.txt (line 8)) (3.0.5)\n",
      "Requirement already satisfied: zipp>=0.5 in c:\\users\\lucas\\anaconda3\\envs\\titanic\\lib\\site-packages (from importlib-metadata->flake8<4.0,>=3.7.9->-r ../src/requirements.txt (line 2)) (3.4.1)\n",
      "Requirement already satisfied: typing-extensions>=3.6.4 in c:\\users\\lucas\\anaconda3\\envs\\titanic\\lib\\site-packages (from importlib-metadata->flake8<4.0,>=3.7.9->-r ../src/requirements.txt (line 2)) (3.7.4.3)\n",
      "Requirement already satisfied: parso<0.9.0,>=0.8.0 in c:\\users\\lucas\\anaconda3\\envs\\titanic\\lib\\site-packages (from jedi>=0.10->ipython==7.10->-r ../src/requirements.txt (line 3)) (0.8.1)\n",
      "Requirement already satisfied: arrow in c:\\users\\lucas\\anaconda3\\envs\\titanic\\lib\\site-packages (from jinja2-time>=0.2.0->cookiecutter~=1.7.0->kedro==0.17.2->-r ../src/requirements.txt (line 8)) (1.0.3)\n",
      "Requirement already satisfied: pywin32>=1.0 in c:\\users\\lucas\\anaconda3\\envs\\titanic\\lib\\site-packages (from jupyter-core>=4.6.0->jupyter_client<7.0,>=5.1->-r ../src/requirements.txt (line 6)) (300)\n",
      "Requirement already satisfied: jsonschema>=2.6.0 in c:\\users\\lucas\\anaconda3\\envs\\titanic\\lib\\site-packages (from jupyterlab-launcher<0.11.0,>=0.10.0->jupyterlab==0.31.1->-r ../src/requirements.txt (line 7)) (3.2.0)\n",
      "Requirement already satisfied: pyrsistent>=0.14.0 in c:\\users\\lucas\\anaconda3\\envs\\titanic\\lib\\site-packages (from jsonschema>=2.6.0->jupyterlab-launcher<0.11.0,>=0.10.0->jupyterlab==0.31.1->-r ../src/requirements.txt (line 7)) (0.17.3)\n",
      "Requirement already satisfied: prometheus-client in c:\\users\\lucas\\anaconda3\\envs\\titanic\\lib\\site-packages (from notebook>=4.3.1->jupyterlab==0.31.1->-r ../src/requirements.txt (line 7)) (0.9.0)\n",
      "Requirement already satisfied: terminado>=0.8.3 in c:\\users\\lucas\\anaconda3\\envs\\titanic\\lib\\site-packages (from notebook>=4.3.1->jupyterlab==0.31.1->-r ../src/requirements.txt (line 7)) (0.9.3)\n",
      "Requirement already satisfied: Send2Trash>=1.5.0 in c:\\users\\lucas\\anaconda3\\envs\\titanic\\lib\\site-packages (from notebook>=4.3.1->jupyterlab==0.31.1->-r ../src/requirements.txt (line 7)) (1.5.0)\n",
      "Requirement already satisfied: argon2-cffi in c:\\users\\lucas\\anaconda3\\envs\\titanic\\lib\\site-packages (from notebook>=4.3.1->jupyterlab==0.31.1->-r ../src/requirements.txt (line 7)) (20.1.0)\n",
      "Requirement already satisfied: pip>=20.1 in c:\\users\\lucas\\anaconda3\\envs\\titanic\\lib\\site-packages (from pip-tools~=5.0->kedro==0.17.2->-r ../src/requirements.txt (line 8)) (21.0.1)\n",
      "Requirement already satisfied: wcwidth in c:\\users\\lucas\\anaconda3\\envs\\titanic\\lib\\site-packages (from prompt-toolkit<3.1.0,>=2.0.0->ipython==7.10->-r ../src/requirements.txt (line 3)) (0.2.5)\n",
      "Requirement already satisfied: text-unidecode>=1.3 in c:\\users\\lucas\\anaconda3\\envs\\titanic\\lib\\site-packages (from python-slugify>=4.0.0->cookiecutter~=1.7.0->kedro==0.17.2->-r ../src/requirements.txt (line 8)) (1.3)\n",
      "Requirement already satisfied: idna<3,>=2.5 in c:\\users\\lucas\\anaconda3\\envs\\titanic\\lib\\site-packages (from requests>=2.23.0->cookiecutter~=1.7.0->kedro==0.17.2->-r ../src/requirements.txt (line 8)) (2.10)\n",
      "Requirement already satisfied: certifi>=2017.4.17 in c:\\users\\lucas\\anaconda3\\envs\\titanic\\lib\\site-packages (from requests>=2.23.0->cookiecutter~=1.7.0->kedro==0.17.2->-r ../src/requirements.txt (line 8)) (2020.12.5)\n",
      "Requirement already satisfied: urllib3<1.27,>=1.21.1 in c:\\users\\lucas\\anaconda3\\envs\\titanic\\lib\\site-packages (from requests>=2.23.0->cookiecutter~=1.7.0->kedro==0.17.2->-r ../src/requirements.txt (line 8)) (1.26.4)\n",
      "Requirement already satisfied: pywinpty>=0.5 in c:\\users\\lucas\\anaconda3\\envs\\titanic\\lib\\site-packages (from terminado>=0.8.3->notebook>=4.3.1->jupyterlab==0.31.1->-r ../src/requirements.txt (line 7)) (0.5.7)\n",
      "Collecting imbalanced-learn\n",
      "  Downloading imbalanced_learn-0.8.0-py3-none-any.whl (206 kB)\n",
      "Requirement already satisfied: pyparsing!=2.0.4,!=2.1.2,!=2.1.6,>=2.0.3 in c:\\users\\lucas\\anaconda3\\envs\\titanic\\lib\\site-packages (from matplotlib->-r ../src/requirements.txt (line 17)) (2.4.7)\n",
      "Requirement already satisfied: numpy>=1.15 in c:\\users\\lucas\\anaconda3\\envs\\titanic\\lib\\site-packages (from matplotlib->-r ../src/requirements.txt (line 17)) (1.20.1)\n",
      "Requirement already satisfied: cycler>=0.10 in c:\\users\\lucas\\anaconda3\\envs\\titanic\\lib\\site-packages (from matplotlib->-r ../src/requirements.txt (line 17)) (0.10.0)\n",
      "Requirement already satisfied: pillow>=6.2.0 in c:\\users\\lucas\\anaconda3\\envs\\titanic\\lib\\site-packages (from matplotlib->-r ../src/requirements.txt (line 17)) (8.1.2)\n",
      "Requirement already satisfied: kiwisolver>=1.0.1 in c:\\users\\lucas\\anaconda3\\envs\\titanic\\lib\\site-packages (from matplotlib->-r ../src/requirements.txt (line 17)) (1.3.1)\n",
      "Requirement already satisfied: pytz>=2017.2 in c:\\users\\lucas\\anaconda3\\envs\\titanic\\lib\\site-packages (from pandas->-r ../src/requirements.txt (line 14)) (2021.1)\n",
      "Requirement already satisfied: scikit-learn in c:\\users\\lucas\\anaconda3\\envs\\titanic\\lib\\site-packages (from sklearn->-r ../src/requirements.txt (line 15)) (0.24.1)\n",
      "Requirement already satisfied: scipy in c:\\users\\lucas\\anaconda3\\envs\\titanic\\lib\\site-packages (from xgboost->-r ../src/requirements.txt (line 16)) (1.6.1)\n",
      "Requirement already satisfied: cffi>=1.0.0 in c:\\users\\lucas\\anaconda3\\envs\\titanic\\lib\\site-packages (from argon2-cffi->notebook>=4.3.1->jupyterlab==0.31.1->-r ../src/requirements.txt (line 7)) (1.14.5)\n",
      "Requirement already satisfied: pycparser in c:\\users\\lucas\\anaconda3\\envs\\titanic\\lib\\site-packages (from cffi>=1.0.0->argon2-cffi->notebook>=4.3.1->jupyterlab==0.31.1->-r ../src/requirements.txt (line 7)) (2.20)\n",
      "Requirement already satisfied: joblib>=0.11 in c:\\users\\lucas\\anaconda3\\envs\\titanic\\lib\\site-packages (from imbalanced-learn->imblearn->-r ../src/requirements.txt (line 18)) (1.0.1)\n",
      "Requirement already satisfied: threadpoolctl>=2.0.0 in c:\\users\\lucas\\anaconda3\\envs\\titanic\\lib\\site-packages (from scikit-learn->sklearn->-r ../src/requirements.txt (line 15)) (2.1.0)\n",
      "Requirement already satisfied: jupyterlab-widgets>=1.0.0 in c:\\users\\lucas\\anaconda3\\envs\\titanic\\lib\\site-packages (from ipywidgets->jupyter~=1.0->-r ../src/requirements.txt (line 5)) (1.0.0)\n",
      "Requirement already satisfied: widgetsnbextension~=3.5.0 in c:\\users\\lucas\\anaconda3\\envs\\titanic\\lib\\site-packages (from ipywidgets->jupyter~=1.0->-r ../src/requirements.txt (line 5)) (3.5.1)\n",
      "Requirement already satisfied: mistune<2,>=0.8.1 in c:\\users\\lucas\\anaconda3\\envs\\titanic\\lib\\site-packages (from nbconvert->jupyter~=1.0->-r ../src/requirements.txt (line 5)) (0.8.4)\n",
      "Requirement already satisfied: testpath in c:\\users\\lucas\\anaconda3\\envs\\titanic\\lib\\site-packages (from nbconvert->jupyter~=1.0->-r ../src/requirements.txt (line 5)) (0.4.4)\n",
      "Requirement already satisfied: nbclient<0.6.0,>=0.5.0 in c:\\users\\lucas\\anaconda3\\envs\\titanic\\lib\\site-packages (from nbconvert->jupyter~=1.0->-r ../src/requirements.txt (line 5)) (0.5.3)\n",
      "Requirement already satisfied: bleach in c:\\users\\lucas\\anaconda3\\envs\\titanic\\lib\\site-packages (from nbconvert->jupyter~=1.0->-r ../src/requirements.txt (line 5)) (3.3.0)\n",
      "Requirement already satisfied: jupyterlab-pygments in c:\\users\\lucas\\anaconda3\\envs\\titanic\\lib\\site-packages (from nbconvert->jupyter~=1.0->-r ../src/requirements.txt (line 5)) (0.1.2)\n",
      "Requirement already satisfied: pandocfilters>=1.4.1 in c:\\users\\lucas\\anaconda3\\envs\\titanic\\lib\\site-packages (from nbconvert->jupyter~=1.0->-r ../src/requirements.txt (line 5)) (1.4.3)\n",
      "Requirement already satisfied: entrypoints>=0.2.2 in c:\\users\\lucas\\anaconda3\\envs\\titanic\\lib\\site-packages (from nbconvert->jupyter~=1.0->-r ../src/requirements.txt (line 5)) (0.3)\n",
      "Requirement already satisfied: defusedxml in c:\\users\\lucas\\anaconda3\\envs\\titanic\\lib\\site-packages (from nbconvert->jupyter~=1.0->-r ../src/requirements.txt (line 5)) (0.7.1)\n",
      "Requirement already satisfied: async-generator in c:\\users\\lucas\\anaconda3\\envs\\titanic\\lib\\site-packages (from nbclient<0.6.0,>=0.5.0->nbconvert->jupyter~=1.0->-r ../src/requirements.txt (line 5)) (1.10)\n",
      "Requirement already satisfied: nest-asyncio in c:\\users\\lucas\\anaconda3\\envs\\titanic\\lib\\site-packages (from nbclient<0.6.0,>=0.5.0->nbconvert->jupyter~=1.0->-r ../src/requirements.txt (line 5)) (1.5.1)\n",
      "Requirement already satisfied: webencodings in c:\\users\\lucas\\anaconda3\\envs\\titanic\\lib\\site-packages (from bleach->nbconvert->jupyter~=1.0->-r ../src/requirements.txt (line 5)) (0.5.1)\n",
      "Requirement already satisfied: qtpy in c:\\users\\lucas\\anaconda3\\envs\\titanic\\lib\\site-packages (from qtconsole->jupyter~=1.0->-r ../src/requirements.txt (line 5)) (1.9.0)\n",
      "Installing collected packages: imbalanced-learn, imblearn\n",
      "Successfully installed imbalanced-learn-0.8.0 imblearn-0.0\n"
     ]
    }
   ],
   "source": [
    "!pip install -r ../src/requirements.txt"
   ]
  },
  {
   "cell_type": "markdown",
   "id": "registered-chapter",
   "metadata": {},
   "source": [
    "# Aquisição de dados\n",
    "---"
   ]
  },
  {
   "cell_type": "code",
   "execution_count": 1,
   "id": "legislative-child",
   "metadata": {},
   "outputs": [
    {
     "data": {
      "text/html": [
       "<div>\n",
       "<style scoped>\n",
       "    .dataframe tbody tr th:only-of-type {\n",
       "        vertical-align: middle;\n",
       "    }\n",
       "\n",
       "    .dataframe tbody tr th {\n",
       "        vertical-align: top;\n",
       "    }\n",
       "\n",
       "    .dataframe thead th {\n",
       "        text-align: right;\n",
       "    }\n",
       "</style>\n",
       "<table border=\"1\" class=\"dataframe\">\n",
       "  <thead>\n",
       "    <tr style=\"text-align: right;\">\n",
       "      <th></th>\n",
       "      <th>PassengerId</th>\n",
       "      <th>Survived</th>\n",
       "      <th>Pclass</th>\n",
       "      <th>Name</th>\n",
       "      <th>Sex</th>\n",
       "      <th>Age</th>\n",
       "      <th>SibSp</th>\n",
       "      <th>Parch</th>\n",
       "      <th>Ticket</th>\n",
       "      <th>Fare</th>\n",
       "      <th>Cabin</th>\n",
       "      <th>Embarked</th>\n",
       "    </tr>\n",
       "  </thead>\n",
       "  <tbody>\n",
       "    <tr>\n",
       "      <th>0</th>\n",
       "      <td>1</td>\n",
       "      <td>0</td>\n",
       "      <td>3</td>\n",
       "      <td>Braund, Mr. Owen Harris</td>\n",
       "      <td>male</td>\n",
       "      <td>22.0</td>\n",
       "      <td>1</td>\n",
       "      <td>0</td>\n",
       "      <td>A/5 21171</td>\n",
       "      <td>7.2500</td>\n",
       "      <td>NaN</td>\n",
       "      <td>S</td>\n",
       "    </tr>\n",
       "    <tr>\n",
       "      <th>1</th>\n",
       "      <td>2</td>\n",
       "      <td>1</td>\n",
       "      <td>1</td>\n",
       "      <td>Cumings, Mrs. John Bradley (Florence Briggs Th...</td>\n",
       "      <td>female</td>\n",
       "      <td>38.0</td>\n",
       "      <td>1</td>\n",
       "      <td>0</td>\n",
       "      <td>PC 17599</td>\n",
       "      <td>71.2833</td>\n",
       "      <td>C85</td>\n",
       "      <td>C</td>\n",
       "    </tr>\n",
       "    <tr>\n",
       "      <th>2</th>\n",
       "      <td>3</td>\n",
       "      <td>1</td>\n",
       "      <td>3</td>\n",
       "      <td>Heikkinen, Miss. Laina</td>\n",
       "      <td>female</td>\n",
       "      <td>26.0</td>\n",
       "      <td>0</td>\n",
       "      <td>0</td>\n",
       "      <td>STON/O2. 3101282</td>\n",
       "      <td>7.9250</td>\n",
       "      <td>NaN</td>\n",
       "      <td>S</td>\n",
       "    </tr>\n",
       "    <tr>\n",
       "      <th>3</th>\n",
       "      <td>4</td>\n",
       "      <td>1</td>\n",
       "      <td>1</td>\n",
       "      <td>Futrelle, Mrs. Jacques Heath (Lily May Peel)</td>\n",
       "      <td>female</td>\n",
       "      <td>35.0</td>\n",
       "      <td>1</td>\n",
       "      <td>0</td>\n",
       "      <td>113803</td>\n",
       "      <td>53.1000</td>\n",
       "      <td>C123</td>\n",
       "      <td>S</td>\n",
       "    </tr>\n",
       "    <tr>\n",
       "      <th>4</th>\n",
       "      <td>5</td>\n",
       "      <td>0</td>\n",
       "      <td>3</td>\n",
       "      <td>Allen, Mr. William Henry</td>\n",
       "      <td>male</td>\n",
       "      <td>35.0</td>\n",
       "      <td>0</td>\n",
       "      <td>0</td>\n",
       "      <td>373450</td>\n",
       "      <td>8.0500</td>\n",
       "      <td>NaN</td>\n",
       "      <td>S</td>\n",
       "    </tr>\n",
       "  </tbody>\n",
       "</table>\n",
       "</div>"
      ],
      "text/plain": [
       "   PassengerId  Survived  Pclass  \\\n",
       "0            1         0       3   \n",
       "1            2         1       1   \n",
       "2            3         1       3   \n",
       "3            4         1       1   \n",
       "4            5         0       3   \n",
       "\n",
       "                                                Name     Sex   Age  SibSp  \\\n",
       "0                            Braund, Mr. Owen Harris    male  22.0      1   \n",
       "1  Cumings, Mrs. John Bradley (Florence Briggs Th...  female  38.0      1   \n",
       "2                             Heikkinen, Miss. Laina  female  26.0      0   \n",
       "3       Futrelle, Mrs. Jacques Heath (Lily May Peel)  female  35.0      1   \n",
       "4                           Allen, Mr. William Henry    male  35.0      0   \n",
       "\n",
       "   Parch            Ticket     Fare Cabin Embarked  \n",
       "0      0         A/5 21171   7.2500   NaN        S  \n",
       "1      0          PC 17599  71.2833   C85        C  \n",
       "2      0  STON/O2. 3101282   7.9250   NaN        S  \n",
       "3      0            113803  53.1000  C123        S  \n",
       "4      0            373450   8.0500   NaN        S  "
      ]
     },
     "execution_count": 1,
     "metadata": {},
     "output_type": "execute_result"
    }
   ],
   "source": [
    "import pandas as pd\n",
    "import matplotlib.pyplot as plt \n",
    "\n",
    "df = pd.read_csv(\"../data/01_raw/train.csv\")\n",
    "df.head()"
   ]
  },
  {
   "cell_type": "markdown",
   "id": "unauthorized-apple",
   "metadata": {},
   "source": [
    "# Pré Processamento\n",
    "---"
   ]
  },
  {
   "cell_type": "code",
   "execution_count": 2,
   "id": "promising-bangkok",
   "metadata": {},
   "outputs": [
    {
     "data": {
      "text/plain": [
       "Cabin          687\n",
       "Age            177\n",
       "Embarked         2\n",
       "Fare             0\n",
       "Ticket           0\n",
       "Parch            0\n",
       "SibSp            0\n",
       "Sex              0\n",
       "Name             0\n",
       "Pclass           0\n",
       "Survived         0\n",
       "PassengerId      0\n",
       "dtype: int64"
      ]
     },
     "execution_count": 2,
     "metadata": {},
     "output_type": "execute_result"
    }
   ],
   "source": [
    "df.isna().sum().sort_values(ascending=False)"
   ]
  },
  {
   "cell_type": "code",
   "execution_count": 3,
   "id": "perceived-paste",
   "metadata": {},
   "outputs": [
    {
     "data": {
      "text/plain": [
       "0    549\n",
       "1    342\n",
       "Name: Survived, dtype: int64"
      ]
     },
     "execution_count": 3,
     "metadata": {},
     "output_type": "execute_result"
    }
   ],
   "source": [
    "df.Survived.value_counts()"
   ]
  },
  {
   "cell_type": "code",
   "execution_count": 4,
   "id": "considered-pound",
   "metadata": {},
   "outputs": [
    {
     "data": {
      "text/plain": [
       "S    644\n",
       "C    168\n",
       "Q     77\n",
       "Name: Embarked, dtype: int64"
      ]
     },
     "execution_count": 4,
     "metadata": {},
     "output_type": "execute_result"
    }
   ],
   "source": [
    "df.Embarked.value_counts()"
   ]
  },
  {
   "cell_type": "code",
   "execution_count": 5,
   "id": "hundred-sociology",
   "metadata": {},
   "outputs": [
    {
     "data": {
      "text/html": [
       "<div>\n",
       "<style scoped>\n",
       "    .dataframe tbody tr th:only-of-type {\n",
       "        vertical-align: middle;\n",
       "    }\n",
       "\n",
       "    .dataframe tbody tr th {\n",
       "        vertical-align: top;\n",
       "    }\n",
       "\n",
       "    .dataframe thead th {\n",
       "        text-align: right;\n",
       "    }\n",
       "</style>\n",
       "<table border=\"1\" class=\"dataframe\">\n",
       "  <thead>\n",
       "    <tr style=\"text-align: right;\">\n",
       "      <th></th>\n",
       "      <th>PassengerId</th>\n",
       "      <th>Pclass</th>\n",
       "      <th>Sex</th>\n",
       "      <th>Age</th>\n",
       "      <th>SibSp</th>\n",
       "      <th>Parch</th>\n",
       "      <th>Fare</th>\n",
       "      <th>Embarked</th>\n",
       "    </tr>\n",
       "  </thead>\n",
       "  <tbody>\n",
       "    <tr>\n",
       "      <th>0</th>\n",
       "      <td>1</td>\n",
       "      <td>3</td>\n",
       "      <td>male</td>\n",
       "      <td>22.0</td>\n",
       "      <td>1</td>\n",
       "      <td>0</td>\n",
       "      <td>7.2500</td>\n",
       "      <td>S</td>\n",
       "    </tr>\n",
       "    <tr>\n",
       "      <th>1</th>\n",
       "      <td>2</td>\n",
       "      <td>1</td>\n",
       "      <td>female</td>\n",
       "      <td>38.0</td>\n",
       "      <td>1</td>\n",
       "      <td>0</td>\n",
       "      <td>71.2833</td>\n",
       "      <td>C</td>\n",
       "    </tr>\n",
       "    <tr>\n",
       "      <th>2</th>\n",
       "      <td>3</td>\n",
       "      <td>3</td>\n",
       "      <td>female</td>\n",
       "      <td>26.0</td>\n",
       "      <td>0</td>\n",
       "      <td>0</td>\n",
       "      <td>7.9250</td>\n",
       "      <td>S</td>\n",
       "    </tr>\n",
       "    <tr>\n",
       "      <th>3</th>\n",
       "      <td>4</td>\n",
       "      <td>1</td>\n",
       "      <td>female</td>\n",
       "      <td>35.0</td>\n",
       "      <td>1</td>\n",
       "      <td>0</td>\n",
       "      <td>53.1000</td>\n",
       "      <td>S</td>\n",
       "    </tr>\n",
       "    <tr>\n",
       "      <th>4</th>\n",
       "      <td>5</td>\n",
       "      <td>3</td>\n",
       "      <td>male</td>\n",
       "      <td>35.0</td>\n",
       "      <td>0</td>\n",
       "      <td>0</td>\n",
       "      <td>8.0500</td>\n",
       "      <td>S</td>\n",
       "    </tr>\n",
       "  </tbody>\n",
       "</table>\n",
       "</div>"
      ],
      "text/plain": [
       "   PassengerId  Pclass     Sex   Age  SibSp  Parch     Fare Embarked\n",
       "0            1       3    male  22.0      1      0   7.2500        S\n",
       "1            2       1  female  38.0      1      0  71.2833        C\n",
       "2            3       3  female  26.0      0      0   7.9250        S\n",
       "3            4       1  female  35.0      1      0  53.1000        S\n",
       "4            5       3    male  35.0      0      0   8.0500        S"
      ]
     },
     "execution_count": 5,
     "metadata": {},
     "output_type": "execute_result"
    }
   ],
   "source": [
    "label_df = df[\"Survived\"]\n",
    "\n",
    "feat_cols = df.columns\n",
    "feat_cols = feat_cols.drop([\"Survived\",\"Name\",\"Ticket\",\"Cabin\"])\n",
    "\n",
    "features_df = df[feat_cols]\n",
    "features_df.head()"
   ]
  },
  {
   "cell_type": "code",
   "execution_count": 6,
   "id": "solved-softball",
   "metadata": {},
   "outputs": [],
   "source": [
    "from sklearn.model_selection import train_test_split\n",
    "\n",
    "X_train, X_test, y_train, y_test = train_test_split(features_df, label_df, \n",
    "                                                    test_size=0.33, random_state=42)"
   ]
  },
  {
   "cell_type": "code",
   "execution_count": 7,
   "id": "unnecessary-singles",
   "metadata": {
    "jupyter": {
     "outputs_hidden": true
    },
    "tags": []
   },
   "outputs": [
    {
     "name": "stderr",
     "output_type": "stream",
     "text": [
      "c:\\users\\lucas\\anaconda3\\envs\\titanic\\lib\\site-packages\\ipykernel_launcher.py:9: SettingWithCopyWarning: \n",
      "A value is trying to be set on a copy of a slice from a DataFrame.\n",
      "Try using .loc[row_indexer,col_indexer] = value instead\n",
      "\n",
      "See the caveats in the documentation: https://pandas.pydata.org/pandas-docs/stable/user_guide/indexing.html#returning-a-view-versus-a-copy\n",
      "  if __name__ == '__main__':\n"
     ]
    }
   ],
   "source": [
    "from sklearn.preprocessing import LabelEncoder\n",
    "\n",
    "category_cols = [\"Sex\", \"Embarked\"]\n",
    "\n",
    "# Label encode categorical features\n",
    "le = {}\n",
    "for col in category_cols:\n",
    "    le[col] = LabelEncoder()\n",
    "    X_train[col] = le[col].fit_transform(X_train[col])"
   ]
  },
  {
   "cell_type": "code",
   "execution_count": 8,
   "id": "massive-probe",
   "metadata": {
    "collapsed": true,
    "jupyter": {
     "outputs_hidden": true
    },
    "tags": []
   },
   "outputs": [
    {
     "name": "stderr",
     "output_type": "stream",
     "text": [
      "c:\\users\\lucas\\anaconda3\\envs\\titanic\\lib\\site-packages\\pandas\\core\\frame.py:4327: SettingWithCopyWarning: \n",
      "A value is trying to be set on a copy of a slice from a DataFrame\n",
      "\n",
      "See the caveats in the documentation: https://pandas.pydata.org/pandas-docs/stable/user_guide/indexing.html#returning-a-view-versus-a-copy\n",
      "  downcast=downcast,\n"
     ]
    }
   ],
   "source": [
    "X_train.fillna(0.0, inplace=True)"
   ]
  },
  {
   "cell_type": "code",
   "execution_count": 18,
   "id": "broadband-hospital",
   "metadata": {},
   "outputs": [],
   "source": [
    "from sklearn.preprocessing import StandardScaler\n",
    "\n",
    "ss = StandardScaler()\n",
    "X_train = ss.fit_transform(X_train)"
   ]
  },
  {
   "cell_type": "code",
   "execution_count": 19,
   "id": "growing-basis",
   "metadata": {},
   "outputs": [],
   "source": [
    "from imblearn.over_sampling import SMOTE\n",
    "\n",
    "oversample = SMOTE()\n",
    "X_, y_ = oversample.fit_resample(X_train, y_train)"
   ]
  },
  {
   "cell_type": "markdown",
   "id": "rational-metadata",
   "metadata": {},
   "source": [
    "### Dados de entrada"
   ]
  },
  {
   "cell_type": "code",
   "execution_count": 20,
   "id": "expanded-casino",
   "metadata": {},
   "outputs": [],
   "source": [
    "import pickle\n",
    "\n",
    "with open('../data/05_model_input/input_data_exp1.pkl', 'wb') as handle:\n",
    "    pickle.dump({'X': X_, 'y': y_}, handle)"
   ]
  },
  {
   "cell_type": "markdown",
   "id": "dramatic-brunei",
   "metadata": {},
   "source": [
    "# Criação do Modelo\n",
    "---"
   ]
  },
  {
   "cell_type": "code",
   "execution_count": 21,
   "id": "herbal-tracker",
   "metadata": {},
   "outputs": [],
   "source": [
    "with open('../data/05_model_input/input_data_exp1.pkl', 'rb') as handle:\n",
    "    input_data = pickle.load(handle)\n",
    "    \n",
    "X, y = input_data['X'], input_data['y']"
   ]
  },
  {
   "cell_type": "code",
   "execution_count": 22,
   "id": "valuable-merit",
   "metadata": {},
   "outputs": [
    {
     "name": "stderr",
     "output_type": "stream",
     "text": [
      "c:\\users\\lucas\\anaconda3\\envs\\titanic\\lib\\site-packages\\xgboost\\sklearn.py:888: UserWarning: The use of label encoder in XGBClassifier is deprecated and will be removed in a future release. To remove this warning, do the following: 1) Pass option use_label_encoder=False when constructing XGBClassifier object; and 2) Encode your labels (y) as integers starting with 0, i.e. 0, 1, 2, ..., [num_class - 1].\n",
      "  warnings.warn(label_encoder_deprecation_msg, UserWarning)\n"
     ]
    },
    {
     "name": "stdout",
     "output_type": "stream",
     "text": [
      "[17:59:18] WARNING: C:/Users/Administrator/workspace/xgboost-win64_release_1.3.0/src/learner.cc:1061: Starting in XGBoost 1.3.0, the default evaluation metric used with the objective 'binary:logistic' was changed from 'error' to 'logloss'. Explicitly set eval_metric if you'd like to restore the old behavior.\n"
     ]
    },
    {
     "data": {
      "text/plain": [
       "XGBClassifier(base_score=0.5, booster='gbtree', colsample_bylevel=1,\n",
       "              colsample_bynode=1, colsample_bytree=1, gamma=0, gpu_id=-1,\n",
       "              importance_type='gain', interaction_constraints='',\n",
       "              learning_rate=0.300000012, max_delta_step=0, max_depth=15,\n",
       "              min_child_weight=1, missing=nan, monotone_constraints='()',\n",
       "              n_estimators=300, n_jobs=8, num_parallel_tree=1, random_state=0,\n",
       "              reg_alpha=0, reg_lambda=1, scale_pos_weight=1, subsample=1,\n",
       "              tree_method='exact', validate_parameters=1, verbosity=None)"
      ]
     },
     "execution_count": 22,
     "metadata": {},
     "output_type": "execute_result"
    }
   ],
   "source": [
    "import xgboost as xgb\n",
    "\n",
    "clf = xgb.XGBClassifier(\n",
    "    n_estimators=300,\n",
    "    max_depth=15\n",
    ")\n",
    "clf.fit(X, y)"
   ]
  },
  {
   "cell_type": "markdown",
   "id": "mighty-dubai",
   "metadata": {},
   "source": [
    "### Salvando os modelos"
   ]
  },
  {
   "cell_type": "code",
   "execution_count": 23,
   "id": "pursuant-argentina",
   "metadata": {},
   "outputs": [],
   "source": [
    "import pickle\n",
    "\n",
    "with open(\"../data/06_models/model.pkl\", \"wb\") as handle:\n",
    "    pickle.dump({\"model\": clf, \"se\": ss, \"le\":le}, handle)"
   ]
  },
  {
   "cell_type": "markdown",
   "id": "collective-spencer",
   "metadata": {},
   "source": [
    "# Validação do Modelo\n",
    "---"
   ]
  },
  {
   "cell_type": "code",
   "execution_count": 24,
   "id": "loaded-river",
   "metadata": {},
   "outputs": [],
   "source": [
    "with open(\"../data/06_models/model.pkl\", \"rb\") as handle:\n",
    "    data = pickle.load(handle)"
   ]
  },
  {
   "cell_type": "code",
   "execution_count": 25,
   "id": "multiple-wealth",
   "metadata": {},
   "outputs": [
    {
     "ename": "IndexError",
     "evalue": "only integers, slices (`:`), ellipsis (`...`), numpy.newaxis (`None`) and integer or boolean arrays are valid indices",
     "output_type": "error",
     "traceback": [
      "\u001b[1;31m---------------------------------------------------------------------------\u001b[0m",
      "\u001b[1;31mIndexError\u001b[0m                                Traceback (most recent call last)",
      "\u001b[1;32m<ipython-input-25-39665f87fad5>\u001b[0m in \u001b[0;36m<module>\u001b[1;34m\u001b[0m\n\u001b[0;32m      1\u001b[0m \u001b[1;32mfor\u001b[0m \u001b[0mcol\u001b[0m \u001b[1;32min\u001b[0m \u001b[0mcategory_cols\u001b[0m\u001b[1;33m:\u001b[0m\u001b[1;33m\u001b[0m\u001b[0m\n\u001b[1;32m----> 2\u001b[1;33m     \u001b[0mX_test\u001b[0m\u001b[1;33m[\u001b[0m\u001b[0mcol\u001b[0m\u001b[1;33m]\u001b[0m \u001b[1;33m=\u001b[0m \u001b[0mle\u001b[0m\u001b[1;33m[\u001b[0m\u001b[0mcol\u001b[0m\u001b[1;33m]\u001b[0m\u001b[1;33m.\u001b[0m\u001b[0mtransform\u001b[0m\u001b[1;33m(\u001b[0m\u001b[0mX_test\u001b[0m\u001b[1;33m[\u001b[0m\u001b[0mcol\u001b[0m\u001b[1;33m]\u001b[0m\u001b[1;33m)\u001b[0m\u001b[1;33m\u001b[0m\u001b[0m\n\u001b[0m\u001b[0;32m      3\u001b[0m \u001b[0mX_test\u001b[0m\u001b[1;33m.\u001b[0m\u001b[0mfillna\u001b[0m\u001b[1;33m(\u001b[0m\u001b[1;36m0.0\u001b[0m\u001b[1;33m,\u001b[0m \u001b[0minplace\u001b[0m\u001b[1;33m=\u001b[0m\u001b[1;32mTrue\u001b[0m\u001b[1;33m)\u001b[0m\u001b[1;33m\u001b[0m\u001b[0m\n\u001b[0;32m      4\u001b[0m \u001b[0mX_test\u001b[0m \u001b[1;33m=\u001b[0m \u001b[0mss\u001b[0m\u001b[1;33m.\u001b[0m\u001b[0mtransform\u001b[0m\u001b[1;33m(\u001b[0m\u001b[0mX_test\u001b[0m\u001b[1;33m)\u001b[0m\u001b[1;33m\u001b[0m\u001b[0m\n",
      "\u001b[1;31mIndexError\u001b[0m: only integers, slices (`:`), ellipsis (`...`), numpy.newaxis (`None`) and integer or boolean arrays are valid indices"
     ]
    }
   ],
   "source": [
    "for col in category_cols:\n",
    "    X_test[col] = le[col].transform(X_test[col])\n",
    "X_test.fillna(0.0, inplace=True)\n",
    "X_test = ss.transform(X_test)"
   ]
  },
  {
   "cell_type": "code",
   "execution_count": 26,
   "id": "catholic-prompt",
   "metadata": {},
   "outputs": [
    {
     "data": {
      "image/png": "[encoded data removed]",
      "text/plain": [
       "<Figure size 432x288 with 2 Axes>"
      ]
     },
     "metadata": {
      "needs_background": "light"
     },
     "output_type": "display_data"
    }
   ],
   "source": [
    "from sklearn.metrics import plot_confusion_matrix\n",
    "\n",
    "plot_confusion_matrix(clf, X_test, y_test, normalize=\"true\")\n",
    "plt.show()"
   ]
  }
 ],
 "metadata": {
  "kernelspec": {
   "display_name": "Python 3",
   "language": "python",
   "name": "python3"
  },
  "language_info": {
   "codemirror_mode": {
    "name": "ipython",
    "version": 3
   },
   "file_extension": ".py",
   "mimetype": "text/x-python",
   "name": "python",
   "nbconvert_exporter": "python",
   "pygments_lexer": "ipython3",
   "version": "3.7.0"
  }
 },
 "nbformat": 4,
 "nbformat_minor": 5
}
