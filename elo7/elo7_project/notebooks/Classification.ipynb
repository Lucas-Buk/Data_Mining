{
 "cells": [
  {
   "cell_type": "markdown",
   "metadata": {
    "id": "seeing-azerbaijan"
   },
   "source": [
    "# **Lucas Buk Cardoso - RA: 20.84113-2**\n",
    "# **Leonardo Vila Franca Siva - RA: 20.84109-4**\n",
    "# **Lívia Zanfelici Fanucchi - RA: 20.84071-3**"
   ]
  },
  {
   "cell_type": "markdown",
   "metadata": {
    "id": "dedicated-locking"
   },
   "source": [
    "# **Enunciado**\n",
    "\n",
    "Neste trabalho é pedido para vocês desenvolvam uma solução de machine learning que traga valor para o seguinte problema: baseado nos dados descritivos de produtos digitais, é pedido que vocês criem um algoritmo capaz de classificar os produtos em diferentes categorias (no caso 5 categorias). \n",
    " \n",
    "Essa solução pode abordar diversos caminhos diferentes que você pode escolher. No caso estamos falando de um problema de classificação com múltiplas classes. Você pode seguir abordagens com múltiplos modelos de classificação, stacking de modelos, um único modelo... entre outros. Você está livre para decidir.\n",
    " \n",
    "A base de dados se encontra no seguinte link:\n",
    "https://drive.google.com/file/d/1PXncCZ9FIJ_AK5wP-YyeKDWNpMfzcswG/view?usp=sharing\n",
    " \n",
    "Caso tenham problema no acesso por favor me avise.\n",
    "\n",
    "# **Prazo**\n",
    "\n",
    "O prazo de entrega será até o fim do curso da pós-graduação, dia 24 de junho de 2021. Caso precisem de mais tempo, por favor me avisem com antecedência.\n",
    "\n",
    "# **Nota**\n",
    "\n",
    "Todos vocês começam o trabalho com 10 pontos. A cada erro de conceito, será descontado 1.0 ponto da nota, e cada erro de sintaxe de código será descontado 0.5 . Se você escolher fazer o trabalho em grupo, será descontado 0.1 ponto a mais em cada erro para cada integrante do grupo, e.g. se você tiver 3 pessoas no grupo e produzir um erro conceitual, você perderá 1.0 + 0.3 (0.1 para cada integrante), um total de 1.3 pontos pelo erro.\n",
    "\n",
    "Vocês devem entregar a solução completa. Todas as etapas do CRISP, menos a etapa de deploy do modelo. Todas as soluções desenvolvidas devem ser documentadas e todo o código deve respeitas as condições PEP do Python.\n",
    " \n",
    "# **Entrega**\n",
    "\n",
    "A entrega será feita pelo próprio Teams ou pelo meu email marcelo.lima@maua.br. Deverá ser entregue toda a pasta com sua solução, base de dados e afins.\n",
    " \n",
    "SEU CÓDIGO DEVE RODAR DE PRIMEIRA! Todos os requisitos do trabalhinho do meio do curso, seguem com a mesma criticidade. Deve ser entregue o notebook, com o arquivo requirements.txt contendo todas as bibliotecas utilizadas por vocês.\n",
    " \n",
    "Além disso, vocês deveram preparar uma apresentação de slides, com ilustrações explicando o resultado do modelo de vocês como se vocês estivessem explicando a qualidade do produto que fizeram para um cliente."
   ]
  },
  {
   "cell_type": "markdown",
   "metadata": {
    "id": "executed-pencil"
   },
   "source": [
    "# **Instalação requirements.txt**"
   ]
  },
  {
   "cell_type": "code",
   "execution_count": null,
   "metadata": {
    "id": "wicked-healing"
   },
   "outputs": [],
   "source": [
    "!pip install -r requirements.txt"
   ]
  },
  {
   "cell_type": "markdown",
   "metadata": {
    "id": "excess-mercy"
   },
   "source": [
    "# **Aquisição de Dados**\n",
    "\n",
    "---\n",
    "\n",
    "Leitura dos dados dos produtos."
   ]
  },
  {
   "cell_type": "code",
   "execution_count": 1,
   "metadata": {
    "colab": {
     "base_uri": "https://localhost:8080/",
     "height": 435
    },
    "executionInfo": {
     "elapsed": 905,
     "status": "ok",
     "timestamp": 1623948364318,
     "user": {
      "displayName": "Lucas Buk Cardoso",
      "photoUrl": "",
      "userId": "13718893696373545505"
     },
     "user_tz": 180
    },
    "id": "increased-browse",
    "outputId": "2916f590-c07b-4268-adcc-f95b3d725608"
   },
   "outputs": [
    {
     "data": {
      "text/html": [
       "<div>\n",
       "<style scoped>\n",
       "    .dataframe tbody tr th:only-of-type {\n",
       "        vertical-align: middle;\n",
       "    }\n",
       "\n",
       "    .dataframe tbody tr th {\n",
       "        vertical-align: top;\n",
       "    }\n",
       "\n",
       "    .dataframe thead th {\n",
       "        text-align: right;\n",
       "    }\n",
       "</style>\n",
       "<table border=\"1\" class=\"dataframe\">\n",
       "  <thead>\n",
       "    <tr style=\"text-align: right;\">\n",
       "      <th></th>\n",
       "      <th>product_id</th>\n",
       "      <th>seller_id</th>\n",
       "      <th>query</th>\n",
       "      <th>search_page</th>\n",
       "      <th>position</th>\n",
       "      <th>title</th>\n",
       "      <th>concatenated_tags</th>\n",
       "      <th>creation_date</th>\n",
       "      <th>price</th>\n",
       "      <th>weight</th>\n",
       "      <th>express_delivery</th>\n",
       "      <th>minimum_quantity</th>\n",
       "      <th>view_counts</th>\n",
       "      <th>order_counts</th>\n",
       "      <th>category</th>\n",
       "    </tr>\n",
       "  </thead>\n",
       "  <tbody>\n",
       "    <tr>\n",
       "      <th>0</th>\n",
       "      <td>11394449</td>\n",
       "      <td>8324141</td>\n",
       "      <td>espirito santo</td>\n",
       "      <td>2</td>\n",
       "      <td>6</td>\n",
       "      <td>Mandala Espírito Santo</td>\n",
       "      <td>mandala mdf</td>\n",
       "      <td>2015-11-14 19:42:12</td>\n",
       "      <td>171.890000</td>\n",
       "      <td>1200.0</td>\n",
       "      <td>1</td>\n",
       "      <td>4</td>\n",
       "      <td>244</td>\n",
       "      <td>NaN</td>\n",
       "      <td>Decoração</td>\n",
       "    </tr>\n",
       "    <tr>\n",
       "      <th>1</th>\n",
       "      <td>15534262</td>\n",
       "      <td>6939286</td>\n",
       "      <td>cartao de visita</td>\n",
       "      <td>2</td>\n",
       "      <td>0</td>\n",
       "      <td>Cartão de Visita</td>\n",
       "      <td>cartao visita panfletos tag adesivos copos lon...</td>\n",
       "      <td>2018-04-04 20:55:07</td>\n",
       "      <td>77.670000</td>\n",
       "      <td>8.0</td>\n",
       "      <td>1</td>\n",
       "      <td>5</td>\n",
       "      <td>124</td>\n",
       "      <td>NaN</td>\n",
       "      <td>Papel e Cia</td>\n",
       "    </tr>\n",
       "    <tr>\n",
       "      <th>2</th>\n",
       "      <td>16153119</td>\n",
       "      <td>9835835</td>\n",
       "      <td>expositor de esmaltes</td>\n",
       "      <td>1</td>\n",
       "      <td>38</td>\n",
       "      <td>Organizador expositor p/ 70 esmaltes</td>\n",
       "      <td>expositor</td>\n",
       "      <td>2018-10-13 20:57:07</td>\n",
       "      <td>73.920006</td>\n",
       "      <td>2709.0</td>\n",
       "      <td>1</td>\n",
       "      <td>1</td>\n",
       "      <td>59</td>\n",
       "      <td>NaN</td>\n",
       "      <td>Outros</td>\n",
       "    </tr>\n",
       "    <tr>\n",
       "      <th>3</th>\n",
       "      <td>15877252</td>\n",
       "      <td>8071206</td>\n",
       "      <td>medidas lencol para berco americano</td>\n",
       "      <td>1</td>\n",
       "      <td>6</td>\n",
       "      <td>Jogo de Lençol Berço Estampado</td>\n",
       "      <td>t jogo lencol menino lencol berco</td>\n",
       "      <td>2017-02-27 13:26:03</td>\n",
       "      <td>118.770004</td>\n",
       "      <td>0.0</td>\n",
       "      <td>1</td>\n",
       "      <td>1</td>\n",
       "      <td>180</td>\n",
       "      <td>1.0</td>\n",
       "      <td>Bebê</td>\n",
       "    </tr>\n",
       "    <tr>\n",
       "      <th>4</th>\n",
       "      <td>15917108</td>\n",
       "      <td>7200773</td>\n",
       "      <td>adesivo box banheiro</td>\n",
       "      <td>3</td>\n",
       "      <td>38</td>\n",
       "      <td>ADESIVO BOX DE BANHEIRO</td>\n",
       "      <td>adesivo box banheiro</td>\n",
       "      <td>2017-05-09 13:18:38</td>\n",
       "      <td>191.810000</td>\n",
       "      <td>507.0</td>\n",
       "      <td>1</td>\n",
       "      <td>6</td>\n",
       "      <td>34</td>\n",
       "      <td>NaN</td>\n",
       "      <td>Decoração</td>\n",
       "    </tr>\n",
       "  </tbody>\n",
       "</table>\n",
       "</div>"
      ],
      "text/plain": [
       "   product_id  seller_id                                query  search_page  \\\n",
       "0    11394449    8324141                       espirito santo            2   \n",
       "1    15534262    6939286                     cartao de visita            2   \n",
       "2    16153119    9835835                expositor de esmaltes            1   \n",
       "3    15877252    8071206  medidas lencol para berco americano            1   \n",
       "4    15917108    7200773                 adesivo box banheiro            3   \n",
       "\n",
       "   position                                 title  \\\n",
       "0         6                Mandala Espírito Santo   \n",
       "1         0                      Cartão de Visita   \n",
       "2        38  Organizador expositor p/ 70 esmaltes   \n",
       "3         6        Jogo de Lençol Berço Estampado   \n",
       "4        38               ADESIVO BOX DE BANHEIRO   \n",
       "\n",
       "                                   concatenated_tags        creation_date  \\\n",
       "0                                        mandala mdf  2015-11-14 19:42:12   \n",
       "1  cartao visita panfletos tag adesivos copos lon...  2018-04-04 20:55:07   \n",
       "2                                          expositor  2018-10-13 20:57:07   \n",
       "3                  t jogo lencol menino lencol berco  2017-02-27 13:26:03   \n",
       "4                               adesivo box banheiro  2017-05-09 13:18:38   \n",
       "\n",
       "        price  weight  express_delivery  minimum_quantity  view_counts  \\\n",
       "0  171.890000  1200.0                 1                 4          244   \n",
       "1   77.670000     8.0                 1                 5          124   \n",
       "2   73.920006  2709.0                 1                 1           59   \n",
       "3  118.770004     0.0                 1                 1          180   \n",
       "4  191.810000   507.0                 1                 6           34   \n",
       "\n",
       "   order_counts     category  \n",
       "0           NaN    Decoração  \n",
       "1           NaN  Papel e Cia  \n",
       "2           NaN       Outros  \n",
       "3           1.0         Bebê  \n",
       "4           NaN    Decoração  "
      ]
     },
     "execution_count": 1,
     "metadata": {},
     "output_type": "execute_result"
    }
   ],
   "source": [
    "import pandas as pd\n",
    "import numpy as np\n",
    "\n",
    "df = pd.read_csv('../data/01_raw/products_dataset.csv') \n",
    "df.head()"
   ]
  },
  {
   "cell_type": "code",
   "execution_count": 2,
   "metadata": {
    "colab": {
     "base_uri": "https://localhost:8080/"
    },
    "executionInfo": {
     "elapsed": 9,
     "status": "ok",
     "timestamp": 1623940364823,
     "user": {
      "displayName": "Lucas Buk Cardoso",
      "photoUrl": "",
      "userId": "13718893696373545505"
     },
     "user_tz": 180
    },
    "id": "available-notebook",
    "outputId": "5c572e39-528b-457e-b63a-ba4989d4fb1d"
   },
   "outputs": [
    {
     "data": {
      "text/plain": [
       "(38507, 15)"
      ]
     },
     "execution_count": 2,
     "metadata": {},
     "output_type": "execute_result"
    }
   ],
   "source": [
    "df.shape"
   ]
  },
  {
   "cell_type": "markdown",
   "metadata": {
    "id": "N9Wtnxkv4SgT"
   },
   "source": [
    "### **Preparação dos labels**"
   ]
  },
  {
   "cell_type": "markdown",
   "metadata": {
    "id": "DlbUk1Ga4hWI"
   },
   "source": [
    "Utilização da biblioteca LabelEncoder para deixar os labels com valores numéricos entre 0 e 5."
   ]
  },
  {
   "cell_type": "code",
   "execution_count": 3,
   "metadata": {
    "id": "vxRWn7vw0lXB",
    "outputId": "628e86c7-a1f5-419c-f109-b517e2f37f7f"
   },
   "outputs": [
    {
     "data": {
      "text/plain": [
       "Lembrancinhas         17759\n",
       "Decoração              8846\n",
       "Bebê                   7026\n",
       "Papel e Cia            2777\n",
       "Outros                 1148\n",
       "Bijuterias e Jóias      951\n",
       "Name: category, dtype: int64"
      ]
     },
     "execution_count": 3,
     "metadata": {},
     "output_type": "execute_result"
    }
   ],
   "source": [
    "df.category.value_counts()"
   ]
  },
  {
   "cell_type": "code",
   "execution_count": 4,
   "metadata": {
    "colab": {
     "base_uri": "https://localhost:8080/"
    },
    "executionInfo": {
     "elapsed": 853,
     "status": "ok",
     "timestamp": 1623948365373,
     "user": {
      "displayName": "Lucas Buk Cardoso",
      "photoUrl": "",
      "userId": "13718893696373545505"
     },
     "user_tz": 180
    },
    "id": "I7wZCpvBHxun",
    "outputId": "ed9c95a9-12ca-4d3a-e1d9-423ff2a8f280"
   },
   "outputs": [
    {
     "data": {
      "text/plain": [
       "3    17759\n",
       "2     8846\n",
       "0     7026\n",
       "5     2777\n",
       "4     1148\n",
       "1      951\n",
       "Name: category, dtype: int64"
      ]
     },
     "execution_count": 4,
     "metadata": {},
     "output_type": "execute_result"
    }
   ],
   "source": [
    "from sklearn.preprocessing import LabelEncoder\n",
    "\n",
    "lb = LabelEncoder()\n",
    "df.category = lb.fit_transform(df.category)\n",
    "\n",
    "df.category.value_counts()"
   ]
  },
  {
   "cell_type": "markdown",
   "metadata": {
    "id": "killing-italic"
   },
   "source": [
    "# **Análise do dataframe**\n",
    "\n",
    "---\n",
    "\n",
    "Análise dos tipos das variáveis do problema, da quantidade de valores faltantes e das correlações entre as variáveis."
   ]
  },
  {
   "cell_type": "markdown",
   "metadata": {
    "id": "hncqOuQy5IBA"
   },
   "source": [
    "### **Tipos das variáveis**"
   ]
  },
  {
   "cell_type": "code",
   "execution_count": 5,
   "metadata": {
    "colab": {
     "base_uri": "https://localhost:8080/"
    },
    "executionInfo": {
     "elapsed": 16,
     "status": "ok",
     "timestamp": 1623940367433,
     "user": {
      "displayName": "Lucas Buk Cardoso",
      "photoUrl": "",
      "userId": "13718893696373545505"
     },
     "user_tz": 180
    },
    "id": "together-sterling",
    "outputId": "8a60e7c0-53d8-49e8-ea41-7c4a3a6cc723"
   },
   "outputs": [
    {
     "data": {
      "text/plain": [
       "product_id             int64\n",
       "seller_id              int64\n",
       "query                 object\n",
       "search_page            int64\n",
       "position               int64\n",
       "title                 object\n",
       "concatenated_tags     object\n",
       "creation_date         object\n",
       "price                float64\n",
       "weight               float64\n",
       "express_delivery       int64\n",
       "minimum_quantity       int64\n",
       "view_counts            int64\n",
       "order_counts         float64\n",
       "category               int32\n",
       "dtype: object"
      ]
     },
     "execution_count": 5,
     "metadata": {},
     "output_type": "execute_result"
    }
   ],
   "source": [
    "df.dtypes"
   ]
  },
  {
   "cell_type": "markdown",
   "metadata": {
    "id": "regular-methodology"
   },
   "source": [
    "### **Valores faltantes**"
   ]
  },
  {
   "cell_type": "code",
   "execution_count": null,
   "metadata": {
    "colab": {
     "base_uri": "https://localhost:8080/"
    },
    "executionInfo": {
     "elapsed": 251,
     "status": "ok",
     "timestamp": 1623940368635,
     "user": {
      "displayName": "Lucas Buk Cardoso",
      "photoUrl": "",
      "userId": "13718893696373545505"
     },
     "user_tz": 180
    },
    "id": "fourth-leader",
    "outputId": "a42da07f-89ce-48fd-ba23-875630b171af"
   },
   "outputs": [
    {
     "data": {
      "text/plain": [
       "order_counts         20390\n",
       "weight                  58\n",
       "concatenated_tags        2\n",
       "category                 0\n",
       "view_counts              0\n",
       "minimum_quantity         0\n",
       "express_delivery         0\n",
       "price                    0\n",
       "creation_date            0\n",
       "title                    0\n",
       "position                 0\n",
       "search_page              0\n",
       "query                    0\n",
       "seller_id                0\n",
       "product_id               0\n",
       "dtype: int64"
      ]
     },
     "execution_count": 6,
     "metadata": {
      "tags": []
     },
     "output_type": "execute_result"
    }
   ],
   "source": [
    "df.isna().sum().sort_values(ascending=False)"
   ]
  },
  {
   "cell_type": "markdown",
   "metadata": {
    "id": "responsible-object"
   },
   "source": [
    "### **Correlação das variáveis**"
   ]
  },
  {
   "cell_type": "code",
   "execution_count": 42,
   "metadata": {
    "colab": {
     "base_uri": "https://localhost:8080/",
     "height": 680
    },
    "executionInfo": {
     "elapsed": 1316,
     "status": "ok",
     "timestamp": 1623948753190,
     "user": {
      "displayName": "Lucas Buk Cardoso",
      "photoUrl": "",
      "userId": "13718893696373545505"
     },
     "user_tz": 180
    },
    "id": "sound-command",
    "outputId": "6a2b8eaf-7f8b-4a96-cc48-ebaacd1a4ace"
   },
   "outputs": [
    {
     "name": "stderr",
     "output_type": "stream",
     "text": [
      "c:\\users\\lucas\\anaconda3\\envs\\elo7env\\lib\\site-packages\\ipykernel_launcher.py:10: UserWarning: Matplotlib is currently using module://ipykernel.pylab.backend_inline, which is a non-GUI backend, so cannot show the figure.\n",
      "  # Remove the CWD from sys.path while we load stuff.\n"
     ]
    },
    {
     "data": {
      "image/png": "[encoded data removed]",
      "text/plain": [
       "<Figure size 1080x720 with 2 Axes>"
      ]
     },
     "metadata": {
      "needs_background": "light"
     },
     "output_type": "display_data"
    }
   ],
   "source": [
    "import matplotlib.pyplot as plt\n",
    "import seaborn as sns\n",
    "\n",
    "correlations = df.corr()\n",
    "\n",
    "fig, ax = plt.subplots(figsize = (15,10))\n",
    "colormap = sns.diverging_palette(220, 10, as_cmap = True)\n",
    " \n",
    "sns.heatmap(correlations, cmap = colormap, annot = True, fmt = '.2f', square=True)\n",
    "fig.show()"
   ]
  },
  {
   "cell_type": "markdown",
   "metadata": {
    "id": "appropriate-surfing"
   },
   "source": [
    "### **Variáveis categóricas**"
   ]
  },
  {
   "cell_type": "markdown",
   "metadata": {
    "id": "honest-department"
   },
   "source": [
    "Separação das variáveis categóricas do dataset."
   ]
  },
  {
   "cell_type": "code",
   "execution_count": 6,
   "metadata": {
    "colab": {
     "base_uri": "https://localhost:8080/"
    },
    "executionInfo": {
     "elapsed": 283,
     "status": "ok",
     "timestamp": 1623948373056,
     "user": {
      "displayName": "Lucas Buk Cardoso",
      "photoUrl": "",
      "userId": "13718893696373545505"
     },
     "user_tz": 180
    },
    "id": "jewish-colonial",
    "outputId": "4bb1bd6a-9454-426d-9b70-a038f73afe34"
   },
   "outputs": [
    {
     "data": {
      "text/plain": [
       "Index(['query', 'title', 'concatenated_tags', 'creation_date'], dtype='object')"
      ]
     },
     "execution_count": 6,
     "metadata": {},
     "output_type": "execute_result"
    }
   ],
   "source": [
    "# Retorno dos categóricos\n",
    "categoricos = df.select_dtypes(include='object').columns\n",
    "categoricos"
   ]
  },
  {
   "cell_type": "code",
   "execution_count": 7,
   "metadata": {
    "colab": {
     "base_uri": "https://localhost:8080/"
    },
    "executionInfo": {
     "elapsed": 42,
     "status": "ok",
     "timestamp": 1623940371064,
     "user": {
      "displayName": "Lucas Buk Cardoso",
      "photoUrl": "",
      "userId": "13718893696373545505"
     },
     "user_tz": 180
    },
    "id": "obvious-container",
    "outputId": "4746eb1c-d9b3-4d82-8312-2a649f5dab7a"
   },
   "outputs": [
    {
     "data": {
      "text/plain": [
       "concatenated_tags    2\n",
       "creation_date        0\n",
       "title                0\n",
       "query                0\n",
       "dtype: int64"
      ]
     },
     "execution_count": 7,
     "metadata": {},
     "output_type": "execute_result"
    }
   ],
   "source": [
    "df[categoricos].isna().sum().sort_values(ascending=False)"
   ]
  },
  {
   "cell_type": "markdown",
   "metadata": {
    "id": "about-better"
   },
   "source": [
    "### **Variáveis numéricas**"
   ]
  },
  {
   "cell_type": "markdown",
   "metadata": {
    "id": "effective-truck"
   },
   "source": [
    "Separação das variáveis numéricas do dataset."
   ]
  },
  {
   "cell_type": "code",
   "execution_count": 8,
   "metadata": {
    "colab": {
     "base_uri": "https://localhost:8080/"
    },
    "executionInfo": {
     "elapsed": 217,
     "status": "ok",
     "timestamp": 1623948376046,
     "user": {
      "displayName": "Lucas Buk Cardoso",
      "photoUrl": "",
      "userId": "13718893696373545505"
     },
     "user_tz": 180
    },
    "id": "meaningful-government",
    "outputId": "0d54be13-4ba0-4b19-ad14-5b4bb9583379"
   },
   "outputs": [
    {
     "data": {
      "text/plain": [
       "Index(['product_id', 'seller_id', 'search_page', 'position', 'price', 'weight',\n",
       "       'express_delivery', 'minimum_quantity', 'view_counts', 'order_counts',\n",
       "       'category'],\n",
       "      dtype='object')"
      ]
     },
     "execution_count": 8,
     "metadata": {},
     "output_type": "execute_result"
    }
   ],
   "source": [
    "# Retorno dos numéricos\n",
    "numericos = df.select_dtypes(exclude='object').columns\n",
    "numericos"
   ]
  },
  {
   "cell_type": "code",
   "execution_count": 9,
   "metadata": {
    "colab": {
     "base_uri": "https://localhost:8080/"
    },
    "executionInfo": {
     "elapsed": 13,
     "status": "ok",
     "timestamp": 1623948376260,
     "user": {
      "displayName": "Lucas Buk Cardoso",
      "photoUrl": "",
      "userId": "13718893696373545505"
     },
     "user_tz": 180
    },
    "id": "impossible-pension",
    "outputId": "824c8032-cf04-41ea-9202-7f6ee6517a6c"
   },
   "outputs": [
    {
     "data": {
      "text/plain": [
       "order_counts        20390\n",
       "weight                 58\n",
       "category                0\n",
       "view_counts             0\n",
       "minimum_quantity        0\n",
       "express_delivery        0\n",
       "price                   0\n",
       "position                0\n",
       "search_page             0\n",
       "seller_id               0\n",
       "product_id              0\n",
       "dtype: int64"
      ]
     },
     "execution_count": 9,
     "metadata": {},
     "output_type": "execute_result"
    }
   ],
   "source": [
    "df[numericos].isna().sum().sort_values(ascending=False)"
   ]
  },
  {
   "cell_type": "markdown",
   "metadata": {
    "id": "hazardous-camcorder"
   },
   "source": [
    "# **Pré-processamento**\n",
    "\n",
    "---"
   ]
  },
  {
   "cell_type": "markdown",
   "metadata": {
    "id": "automated-perth"
   },
   "source": [
    "### **Remoção dos valores nulos**"
   ]
  },
  {
   "cell_type": "markdown",
   "metadata": {
    "id": "deluxe-belief"
   },
   "source": [
    "> Para as variáveis categóricas será colocado no lugar dos valores faltantes `##Sem descricao##`, assim é considerada como uma categoria diferente das já existentes naquelas variáveis."
   ]
  },
  {
   "cell_type": "code",
   "execution_count": 10,
   "metadata": {
    "id": "silent-composite"
   },
   "outputs": [],
   "source": [
    "df[categoricos] = df[categoricos].fillna('##Sem descricao##')"
   ]
  },
  {
   "cell_type": "markdown",
   "metadata": {
    "id": "general-motor"
   },
   "source": [
    "> Para as variáveis numéricas será colocado no lugar dos valores faltantes somente 0."
   ]
  },
  {
   "cell_type": "code",
   "execution_count": 11,
   "metadata": {
    "id": "sharing-surfing"
   },
   "outputs": [],
   "source": [
    "df[numericos] = df[numericos].fillna(0)"
   ]
  },
  {
   "cell_type": "markdown",
   "metadata": {
    "id": "hourly-phenomenon"
   },
   "source": [
    "### **Separação em treino e teste**"
   ]
  },
  {
   "cell_type": "markdown",
   "metadata": {
    "id": "SIdSqMP25Yqg",
    "tags": []
   },
   "source": [
    "Antes da separação o dataset será ordenado pela data, assim as classificações serão feitas para os valores com a data mais atual."
   ]
  },
  {
   "cell_type": "code",
   "execution_count": 12,
   "metadata": {
    "colab": {
     "base_uri": "https://localhost:8080/",
     "height": 288
    },
    "executionInfo": {
     "elapsed": 246,
     "status": "ok",
     "timestamp": 1623948380719,
     "user": {
      "displayName": "Lucas Buk Cardoso",
      "photoUrl": "",
      "userId": "13718893696373545505"
     },
     "user_tz": 180
    },
    "id": "w9V1NVJt1l-U",
    "outputId": "b21972b4-a8be-40d2-de5c-9e6704b36e13"
   },
   "outputs": [
    {
     "data": {
      "text/html": [
       "<div>\n",
       "<style scoped>\n",
       "    .dataframe tbody tr th:only-of-type {\n",
       "        vertical-align: middle;\n",
       "    }\n",
       "\n",
       "    .dataframe tbody tr th {\n",
       "        vertical-align: top;\n",
       "    }\n",
       "\n",
       "    .dataframe thead th {\n",
       "        text-align: right;\n",
       "    }\n",
       "</style>\n",
       "<table border=\"1\" class=\"dataframe\">\n",
       "  <thead>\n",
       "    <tr style=\"text-align: right;\">\n",
       "      <th></th>\n",
       "      <th>product_id</th>\n",
       "      <th>seller_id</th>\n",
       "      <th>query</th>\n",
       "      <th>search_page</th>\n",
       "      <th>position</th>\n",
       "      <th>title</th>\n",
       "      <th>concatenated_tags</th>\n",
       "      <th>creation_date</th>\n",
       "      <th>price</th>\n",
       "      <th>weight</th>\n",
       "      <th>express_delivery</th>\n",
       "      <th>minimum_quantity</th>\n",
       "      <th>view_counts</th>\n",
       "      <th>order_counts</th>\n",
       "      <th>category</th>\n",
       "    </tr>\n",
       "  </thead>\n",
       "  <tbody>\n",
       "    <tr>\n",
       "      <th>0</th>\n",
       "      <td>14229551</td>\n",
       "      <td>5243703</td>\n",
       "      <td>sacola de papel kraft</td>\n",
       "      <td>1</td>\n",
       "      <td>21</td>\n",
       "      <td>Sacola kraft media c/ papel rendado</td>\n",
       "      <td>sacolas papel coloridas niver anna's</td>\n",
       "      <td>2008-11-05 22:57:17</td>\n",
       "      <td>12.26</td>\n",
       "      <td>6.0</td>\n",
       "      <td>0</td>\n",
       "      <td>4</td>\n",
       "      <td>129</td>\n",
       "      <td>7.0</td>\n",
       "      <td>5</td>\n",
       "    </tr>\n",
       "    <tr>\n",
       "      <th>1</th>\n",
       "      <td>1125256</td>\n",
       "      <td>9711820</td>\n",
       "      <td>porta retrato com palitos de sorvete</td>\n",
       "      <td>1</td>\n",
       "      <td>19</td>\n",
       "      <td>CAIXA PORTA-CHÁ</td>\n",
       "      <td>artesanato palitos sorvete</td>\n",
       "      <td>2008-11-10 17:43:17</td>\n",
       "      <td>83.94</td>\n",
       "      <td>0.0</td>\n",
       "      <td>0</td>\n",
       "      <td>4</td>\n",
       "      <td>23</td>\n",
       "      <td>7.0</td>\n",
       "      <td>5</td>\n",
       "    </tr>\n",
       "  </tbody>\n",
       "</table>\n",
       "</div>"
      ],
      "text/plain": [
       "   product_id  seller_id                                 query  search_page  \\\n",
       "0    14229551    5243703                 sacola de papel kraft            1   \n",
       "1     1125256    9711820  porta retrato com palitos de sorvete            1   \n",
       "\n",
       "   position                                title  \\\n",
       "0        21  Sacola kraft media c/ papel rendado   \n",
       "1        19                      CAIXA PORTA-CHÁ   \n",
       "\n",
       "                      concatenated_tags        creation_date  price  weight  \\\n",
       "0  sacolas papel coloridas niver anna's  2008-11-05 22:57:17  12.26     6.0   \n",
       "1            artesanato palitos sorvete  2008-11-10 17:43:17  83.94     0.0   \n",
       "\n",
       "   express_delivery  minimum_quantity  view_counts  order_counts  category  \n",
       "0                 0                 4          129           7.0         5  \n",
       "1                 0                 4           23           7.0         5  "
      ]
     },
     "execution_count": 12,
     "metadata": {},
     "output_type": "execute_result"
    }
   ],
   "source": [
    "df_ordenado = df.sort_values(by='creation_date', ignore_index=True)\n",
    "df_ordenado.head(2)"
   ]
  },
  {
   "cell_type": "markdown",
   "metadata": {
    "id": "underlying-regulation"
   },
   "source": [
    "Separação dos dados em treino e teste para realizar o treinamento e a validação dos modelos de machine learning, o parâmetro `suffle` garante a divisão correta do dataframe ordenado, com o conjunto de dados mais antigo sendo para o treinamento e as datas mais recentes no conjunto de teste."
   ]
  },
  {
   "cell_type": "code",
   "execution_count": 13,
   "metadata": {
    "id": "hybrid-tattoo"
   },
   "outputs": [],
   "source": [
    "# Separação entre features e label\n",
    "label = df_ordenado.category.copy()\n",
    "feat_cols = df_ordenado.columns\n",
    "feat_cols = feat_cols.drop('category')\n",
    "feat = df_ordenado[feat_cols].copy()\n",
    "\n",
    "# Separação em treino e teste\n",
    "from sklearn.model_selection import train_test_split\n",
    "\n",
    "X_train, X_test, y_train, y_test = train_test_split(feat, label, test_size=0.25, random_state=7, shuffle=False)"
   ]
  },
  {
   "cell_type": "code",
   "execution_count": 14,
   "metadata": {
    "colab": {
     "base_uri": "https://localhost:8080/"
    },
    "executionInfo": {
     "elapsed": 296,
     "status": "ok",
     "timestamp": 1623940379570,
     "user": {
      "displayName": "Lucas Buk Cardoso",
      "photoUrl": "",
      "userId": "13718893696373545505"
     },
     "user_tz": 180
    },
    "id": "pregnant-resource",
    "outputId": "8ad109b8-4c2a-4e5b-e3ab-487146f32258"
   },
   "outputs": [
    {
     "data": {
      "text/plain": [
       "((28880, 14), (9627, 14), (28880,), (9627,))"
      ]
     },
     "execution_count": 14,
     "metadata": {},
     "output_type": "execute_result"
    }
   ],
   "source": [
    "X_train.shape, X_test.shape, y_train.shape, y_test.shape"
   ]
  },
  {
   "cell_type": "code",
   "execution_count": 15,
   "metadata": {
    "colab": {
     "base_uri": "https://localhost:8080/",
     "height": 337
    },
    "executionInfo": {
     "elapsed": 30,
     "status": "ok",
     "timestamp": 1623940380574,
     "user": {
      "displayName": "Lucas Buk Cardoso",
      "photoUrl": "",
      "userId": "13718893696373545505"
     },
     "user_tz": 180
    },
    "id": "qkzq4rdgWDo6",
    "outputId": "a9efc2f0-f6b4-4868-ad04-094fe1a0774c"
   },
   "outputs": [
    {
     "data": {
      "text/html": [
       "<div>\n",
       "<style scoped>\n",
       "    .dataframe tbody tr th:only-of-type {\n",
       "        vertical-align: middle;\n",
       "    }\n",
       "\n",
       "    .dataframe tbody tr th {\n",
       "        vertical-align: top;\n",
       "    }\n",
       "\n",
       "    .dataframe thead th {\n",
       "        text-align: right;\n",
       "    }\n",
       "</style>\n",
       "<table border=\"1\" class=\"dataframe\">\n",
       "  <thead>\n",
       "    <tr style=\"text-align: right;\">\n",
       "      <th></th>\n",
       "      <th>product_id</th>\n",
       "      <th>seller_id</th>\n",
       "      <th>query</th>\n",
       "      <th>search_page</th>\n",
       "      <th>position</th>\n",
       "      <th>title</th>\n",
       "      <th>concatenated_tags</th>\n",
       "      <th>creation_date</th>\n",
       "      <th>price</th>\n",
       "      <th>weight</th>\n",
       "      <th>express_delivery</th>\n",
       "      <th>minimum_quantity</th>\n",
       "      <th>view_counts</th>\n",
       "      <th>order_counts</th>\n",
       "    </tr>\n",
       "  </thead>\n",
       "  <tbody>\n",
       "    <tr>\n",
       "      <th>28878</th>\n",
       "      <td>7903614</td>\n",
       "      <td>9377206</td>\n",
       "      <td>dia dos pais</td>\n",
       "      <td>1</td>\n",
       "      <td>24</td>\n",
       "      <td>Chinelo Dia dos Pais 2ª linha</td>\n",
       "      <td>chinelo dia pais dora personalizado dia pais p...</td>\n",
       "      <td>2018-06-28 18:24:50</td>\n",
       "      <td>14.160000</td>\n",
       "      <td>287.0</td>\n",
       "      <td>1</td>\n",
       "      <td>20</td>\n",
       "      <td>476</td>\n",
       "      <td>27.0</td>\n",
       "    </tr>\n",
       "    <tr>\n",
       "      <th>28879</th>\n",
       "      <td>11573689</td>\n",
       "      <td>9377206</td>\n",
       "      <td>lembrancinha masculina</td>\n",
       "      <td>2</td>\n",
       "      <td>2</td>\n",
       "      <td>Chinelo dia Dos professores 2ª linha</td>\n",
       "      <td>chinelo dia professores dia professores</td>\n",
       "      <td>2018-06-28 18:31:08</td>\n",
       "      <td>15.059999</td>\n",
       "      <td>289.0</td>\n",
       "      <td>1</td>\n",
       "      <td>20</td>\n",
       "      <td>137</td>\n",
       "      <td>24.0</td>\n",
       "    </tr>\n",
       "  </tbody>\n",
       "</table>\n",
       "</div>"
      ],
      "text/plain": [
       "       product_id  seller_id                   query  search_page  position  \\\n",
       "28878     7903614    9377206            dia dos pais            1        24   \n",
       "28879    11573689    9377206  lembrancinha masculina            2         2   \n",
       "\n",
       "                                      title  \\\n",
       "28878         Chinelo Dia dos Pais 2ª linha   \n",
       "28879  Chinelo dia Dos professores 2ª linha   \n",
       "\n",
       "                                       concatenated_tags        creation_date  \\\n",
       "28878  chinelo dia pais dora personalizado dia pais p...  2018-06-28 18:24:50   \n",
       "28879            chinelo dia professores dia professores  2018-06-28 18:31:08   \n",
       "\n",
       "           price  weight  express_delivery  minimum_quantity  view_counts  \\\n",
       "28878  14.160000   287.0                 1                20          476   \n",
       "28879  15.059999   289.0                 1                20          137   \n",
       "\n",
       "       order_counts  \n",
       "28878          27.0  \n",
       "28879          24.0  "
      ]
     },
     "execution_count": 15,
     "metadata": {},
     "output_type": "execute_result"
    }
   ],
   "source": [
    "X_train.tail(2)"
   ]
  },
  {
   "cell_type": "code",
   "execution_count": 16,
   "metadata": {
    "colab": {
     "base_uri": "https://localhost:8080/",
     "height": 424
    },
    "executionInfo": {
     "elapsed": 282,
     "status": "ok",
     "timestamp": 1623940382157,
     "user": {
      "displayName": "Lucas Buk Cardoso",
      "photoUrl": "",
      "userId": "13718893696373545505"
     },
     "user_tz": 180
    },
    "id": "usM57nncWDo7",
    "outputId": "12b55ae4-507c-4d4d-f46b-090b421f819c"
   },
   "outputs": [
    {
     "data": {
      "text/html": [
       "<div>\n",
       "<style scoped>\n",
       "    .dataframe tbody tr th:only-of-type {\n",
       "        vertical-align: middle;\n",
       "    }\n",
       "\n",
       "    .dataframe tbody tr th {\n",
       "        vertical-align: top;\n",
       "    }\n",
       "\n",
       "    .dataframe thead th {\n",
       "        text-align: right;\n",
       "    }\n",
       "</style>\n",
       "<table border=\"1\" class=\"dataframe\">\n",
       "  <thead>\n",
       "    <tr style=\"text-align: right;\">\n",
       "      <th></th>\n",
       "      <th>product_id</th>\n",
       "      <th>seller_id</th>\n",
       "      <th>query</th>\n",
       "      <th>search_page</th>\n",
       "      <th>position</th>\n",
       "      <th>title</th>\n",
       "      <th>concatenated_tags</th>\n",
       "      <th>creation_date</th>\n",
       "      <th>price</th>\n",
       "      <th>weight</th>\n",
       "      <th>express_delivery</th>\n",
       "      <th>minimum_quantity</th>\n",
       "      <th>view_counts</th>\n",
       "      <th>order_counts</th>\n",
       "    </tr>\n",
       "  </thead>\n",
       "  <tbody>\n",
       "    <tr>\n",
       "      <th>28880</th>\n",
       "      <td>8428008</td>\n",
       "      <td>9159926</td>\n",
       "      <td>forma para placa cimento 3d</td>\n",
       "      <td>1</td>\n",
       "      <td>35</td>\n",
       "      <td>Forma em Silicone p/ Gesso 3D Malm | Medusa 29x29</td>\n",
       "      <td>placas</td>\n",
       "      <td>2018-06-28 18:38:49</td>\n",
       "      <td>95.41</td>\n",
       "      <td>2000.0</td>\n",
       "      <td>0</td>\n",
       "      <td>10</td>\n",
       "      <td>125</td>\n",
       "      <td>21.0</td>\n",
       "    </tr>\n",
       "    <tr>\n",
       "      <th>28881</th>\n",
       "      <td>4233862</td>\n",
       "      <td>6341935</td>\n",
       "      <td>saquinho maternidade</td>\n",
       "      <td>3</td>\n",
       "      <td>4</td>\n",
       "      <td>6 Saquinhos Maternidade com viés Azul Marinho Poá</td>\n",
       "      <td>saquinhos maternidade</td>\n",
       "      <td>2018-06-28 18:56:26</td>\n",
       "      <td>119.07</td>\n",
       "      <td>42.0</td>\n",
       "      <td>1</td>\n",
       "      <td>6</td>\n",
       "      <td>230</td>\n",
       "      <td>6.0</td>\n",
       "    </tr>\n",
       "  </tbody>\n",
       "</table>\n",
       "</div>"
      ],
      "text/plain": [
       "       product_id  seller_id                        query  search_page  \\\n",
       "28880     8428008    9159926  forma para placa cimento 3d            1   \n",
       "28881     4233862    6341935         saquinho maternidade            3   \n",
       "\n",
       "       position                                              title  \\\n",
       "28880        35  Forma em Silicone p/ Gesso 3D Malm | Medusa 29x29   \n",
       "28881         4  6 Saquinhos Maternidade com viés Azul Marinho Poá   \n",
       "\n",
       "           concatenated_tags        creation_date   price  weight  \\\n",
       "28880                 placas  2018-06-28 18:38:49   95.41  2000.0   \n",
       "28881  saquinhos maternidade  2018-06-28 18:56:26  119.07    42.0   \n",
       "\n",
       "       express_delivery  minimum_quantity  view_counts  order_counts  \n",
       "28880                 0                10          125          21.0  \n",
       "28881                 1                 6          230           6.0  "
      ]
     },
     "execution_count": 16,
     "metadata": {},
     "output_type": "execute_result"
    }
   ],
   "source": [
    "X_test.head(2)"
   ]
  },
  {
   "cell_type": "markdown",
   "metadata": {
    "id": "NAgY1PmP8TkD"
   },
   "source": [
    "### **Coluna com a data**"
   ]
  },
  {
   "cell_type": "markdown",
   "metadata": {
    "id": "5uU6e01LKwo_"
   },
   "source": [
    "Utilização da data com uma coluna para cada um dos valores do dia, mês e ano. Após a criação, a coluna original da data será retirada dos dados."
   ]
  },
  {
   "cell_type": "code",
   "execution_count": 17,
   "metadata": {
    "collapsed": true,
    "id": "nkrJdAWN8X-A",
    "jupyter": {
     "outputs_hidden": true
    },
    "outputId": "96e26d67-50c4-4665-a3ce-e302c8bde931",
    "tags": []
   },
   "outputs": [
    {
     "name": "stderr",
     "output_type": "stream",
     "text": [
      "c:\\users\\lucas\\anaconda3\\envs\\elo7env\\lib\\site-packages\\ipykernel_launcher.py:1: SettingWithCopyWarning: \n",
      "A value is trying to be set on a copy of a slice from a DataFrame.\n",
      "Try using .loc[row_indexer,col_indexer] = value instead\n",
      "\n",
      "See the caveats in the documentation: https://pandas.pydata.org/pandas-docs/stable/user_guide/indexing.html#returning-a-view-versus-a-copy\n",
      "  \"\"\"Entry point for launching an IPython kernel.\n",
      "c:\\users\\lucas\\anaconda3\\envs\\elo7env\\lib\\site-packages\\ipykernel_launcher.py:2: SettingWithCopyWarning: \n",
      "A value is trying to be set on a copy of a slice from a DataFrame.\n",
      "Try using .loc[row_indexer,col_indexer] = value instead\n",
      "\n",
      "See the caveats in the documentation: https://pandas.pydata.org/pandas-docs/stable/user_guide/indexing.html#returning-a-view-versus-a-copy\n",
      "  \n",
      "c:\\users\\lucas\\anaconda3\\envs\\elo7env\\lib\\site-packages\\ipykernel_launcher.py:3: SettingWithCopyWarning: \n",
      "A value is trying to be set on a copy of a slice from a DataFrame.\n",
      "Try using .loc[row_indexer,col_indexer] = value instead\n",
      "\n",
      "See the caveats in the documentation: https://pandas.pydata.org/pandas-docs/stable/user_guide/indexing.html#returning-a-view-versus-a-copy\n",
      "  This is separate from the ipykernel package so we can avoid doing imports until\n",
      "c:\\users\\lucas\\anaconda3\\envs\\elo7env\\lib\\site-packages\\pandas\\core\\frame.py:4174: SettingWithCopyWarning: \n",
      "A value is trying to be set on a copy of a slice from a DataFrame\n",
      "\n",
      "See the caveats in the documentation: https://pandas.pydata.org/pandas-docs/stable/user_guide/indexing.html#returning-a-view-versus-a-copy\n",
      "  errors=errors,\n"
     ]
    }
   ],
   "source": [
    "X_train['creation_year'] = pd.to_datetime(X_train.creation_date, format='%Y-%m-%d %H:%M:%S').dt.year\n",
    "X_train['creation_month'] = pd.to_datetime(X_train.creation_date, format='%Y-%m-%d %H:%M:%S').dt.month\n",
    "X_train['creation_day'] = pd.to_datetime(X_train.creation_date, format='%Y-%m-%d %H:%M:%S').dt.day\n",
    "\n",
    "X_train.drop(columns='creation_date', inplace=True)"
   ]
  },
  {
   "cell_type": "markdown",
   "metadata": {
    "id": "ParZ6q2_M3p7"
   },
   "source": [
    "### **NLP**"
   ]
  },
  {
   "cell_type": "markdown",
   "metadata": {
    "id": "EN8OKEz3dGHM"
   },
   "source": [
    "Etapa de NLP com as colunas `query` e `title` do DataFrame, para ambos serão realizadas as etapas de obter a frase em letras minúsculas, realizar a tokenização, remoção de stop words e reconstrução da frase. Após isso, é possível utilizar o vetorizador para transformar as frases em diversas colunas numéricas."
   ]
  },
  {
   "cell_type": "code",
   "execution_count": 18,
   "metadata": {
    "collapsed": true,
    "id": "sxHyGt97WDpC",
    "jupyter": {
     "outputs_hidden": true
    },
    "outputId": "f062ab4b-2eef-4ed1-afaf-44bb8ca81cad",
    "tags": []
   },
   "outputs": [
    {
     "name": "stderr",
     "output_type": "stream",
     "text": [
      "[nltk_data] Downloading collection 'popular'\n",
      "[nltk_data]    | \n",
      "[nltk_data]    | Downloading package cmudict to\n",
      "[nltk_data]    |     C:\\Users\\lucas\\AppData\\Roaming\\nltk_data...\n",
      "[nltk_data]    |   Package cmudict is already up-to-date!\n",
      "[nltk_data]    | Downloading package gazetteers to\n",
      "[nltk_data]    |     C:\\Users\\lucas\\AppData\\Roaming\\nltk_data...\n",
      "[nltk_data]    |   Package gazetteers is already up-to-date!\n",
      "[nltk_data]    | Downloading package genesis to\n",
      "[nltk_data]    |     C:\\Users\\lucas\\AppData\\Roaming\\nltk_data...\n",
      "[nltk_data]    |   Package genesis is already up-to-date!\n",
      "[nltk_data]    | Downloading package gutenberg to\n",
      "[nltk_data]    |     C:\\Users\\lucas\\AppData\\Roaming\\nltk_data...\n",
      "[nltk_data]    |   Package gutenberg is already up-to-date!\n",
      "[nltk_data]    | Downloading package inaugural to\n",
      "[nltk_data]    |     C:\\Users\\lucas\\AppData\\Roaming\\nltk_data...\n",
      "[nltk_data]    |   Package inaugural is already up-to-date!\n",
      "[nltk_data]    | Downloading package movie_reviews to\n",
      "[nltk_data]    |     C:\\Users\\lucas\\AppData\\Roaming\\nltk_data...\n",
      "[nltk_data]    |   Package movie_reviews is already up-to-date!\n",
      "[nltk_data]    | Downloading package names to\n",
      "[nltk_data]    |     C:\\Users\\lucas\\AppData\\Roaming\\nltk_data...\n",
      "[nltk_data]    |   Package names is already up-to-date!\n",
      "[nltk_data]    | Downloading package shakespeare to\n",
      "[nltk_data]    |     C:\\Users\\lucas\\AppData\\Roaming\\nltk_data...\n",
      "[nltk_data]    |   Package shakespeare is already up-to-date!\n",
      "[nltk_data]    | Downloading package stopwords to\n",
      "[nltk_data]    |     C:\\Users\\lucas\\AppData\\Roaming\\nltk_data...\n",
      "[nltk_data]    |   Package stopwords is already up-to-date!\n",
      "[nltk_data]    | Downloading package treebank to\n",
      "[nltk_data]    |     C:\\Users\\lucas\\AppData\\Roaming\\nltk_data...\n",
      "[nltk_data]    |   Package treebank is already up-to-date!\n",
      "[nltk_data]    | Downloading package twitter_samples to\n",
      "[nltk_data]    |     C:\\Users\\lucas\\AppData\\Roaming\\nltk_data...\n",
      "[nltk_data]    |   Package twitter_samples is already up-to-date!\n",
      "[nltk_data]    | Downloading package omw to\n",
      "[nltk_data]    |     C:\\Users\\lucas\\AppData\\Roaming\\nltk_data...\n",
      "[nltk_data]    |   Package omw is already up-to-date!\n",
      "[nltk_data]    | Downloading package wordnet to\n",
      "[nltk_data]    |     C:\\Users\\lucas\\AppData\\Roaming\\nltk_data...\n",
      "[nltk_data]    |   Package wordnet is already up-to-date!\n",
      "[nltk_data]    | Downloading package wordnet_ic to\n",
      "[nltk_data]    |     C:\\Users\\lucas\\AppData\\Roaming\\nltk_data...\n",
      "[nltk_data]    |   Package wordnet_ic is already up-to-date!\n",
      "[nltk_data]    | Downloading package words to\n",
      "[nltk_data]    |     C:\\Users\\lucas\\AppData\\Roaming\\nltk_data...\n",
      "[nltk_data]    |   Package words is already up-to-date!\n",
      "[nltk_data]    | Downloading package maxent_ne_chunker to\n",
      "[nltk_data]    |     C:\\Users\\lucas\\AppData\\Roaming\\nltk_data...\n",
      "[nltk_data]    |   Package maxent_ne_chunker is already up-to-date!\n",
      "[nltk_data]    | Downloading package punkt to\n",
      "[nltk_data]    |     C:\\Users\\lucas\\AppData\\Roaming\\nltk_data...\n",
      "[nltk_data]    |   Package punkt is already up-to-date!\n",
      "[nltk_data]    | Downloading package snowball_data to\n",
      "[nltk_data]    |     C:\\Users\\lucas\\AppData\\Roaming\\nltk_data...\n",
      "[nltk_data]    |   Package snowball_data is already up-to-date!\n",
      "[nltk_data]    | Downloading package averaged_perceptron_tagger to\n",
      "[nltk_data]    |     C:\\Users\\lucas\\AppData\\Roaming\\nltk_data...\n",
      "[nltk_data]    |   Package averaged_perceptron_tagger is already up-\n",
      "[nltk_data]    |       to-date!\n",
      "[nltk_data]    | \n",
      "[nltk_data]  Done downloading collection popular\n"
     ]
    },
    {
     "data": {
      "text/plain": [
       "True"
      ]
     },
     "execution_count": 18,
     "metadata": {},
     "output_type": "execute_result"
    }
   ],
   "source": [
    "import nltk\n",
    "nltk.download('popular')"
   ]
  },
  {
   "cell_type": "code",
   "execution_count": 19,
   "metadata": {
    "id": "3IAuACFXWDpC"
   },
   "outputs": [],
   "source": [
    "# Funções para realização de algumas etapas da NLP\n",
    "def minusculo(frase):\n",
    "    \"\"\"Função para deixar as frases em letra minúscula\n",
    "    \"\"\"\n",
    "    return frase.lower()\n",
    "\n",
    "def remover_stops(frase_tokenizada, stw_parametro):\n",
    "    \"\"\"Função para remover as stop words das frases\n",
    "    \"\"\"\n",
    "    return [palavra for palavra in frase_tokenizada if palavra not in stw_parametro]\n",
    "\n",
    "def reconstroi_frase(lista_palvras):\n",
    "    \"\"\"Função para reconstruir a frase já sem as stop words\n",
    "    \"\"\"\n",
    "    return ' '.join(lista_palvras)"
   ]
  },
  {
   "cell_type": "code",
   "execution_count": 20,
   "metadata": {
    "colab": {
     "base_uri": "https://localhost:8080/"
    },
    "executionInfo": {
     "elapsed": 213,
     "status": "ok",
     "timestamp": 1623948405617,
     "user": {
      "displayName": "Lucas Buk Cardoso",
      "photoUrl": "",
      "userId": "13718893696373545505"
     },
     "user_tz": 180
    },
    "id": "TD49YyMWWDpD",
    "outputId": "1035513f-1bee-47de-bff1-4f65cbff2afc"
   },
   "outputs": [
    {
     "data": {
      "text/plain": [
       "0     Sacola kraft media c/ papel rendado\n",
       "1                         CAIXA PORTA-CHÁ\n",
       "2                   Lembrancinha batizado\n",
       "3              Puxadores bichinhos de mar\n",
       "4    sapatinho de bebê somente no atacado\n",
       "Name: title, dtype: object"
      ]
     },
     "execution_count": 20,
     "metadata": {},
     "output_type": "execute_result"
    }
   ],
   "source": [
    "title = X_train['title'].copy()\n",
    "title.head()"
   ]
  },
  {
   "cell_type": "code",
   "execution_count": 21,
   "metadata": {
    "colab": {
     "base_uri": "https://localhost:8080/"
    },
    "executionInfo": {
     "elapsed": 202,
     "status": "ok",
     "timestamp": 1623948407535,
     "user": {
      "displayName": "Lucas Buk Cardoso",
      "photoUrl": "",
      "userId": "13718893696373545505"
     },
     "user_tz": 180
    },
    "id": "8plRk0csWDpD",
    "outputId": "b29a00cc-0013-4ba6-b1f6-f59bb0c6e288"
   },
   "outputs": [
    {
     "data": {
      "text/plain": [
       "0                   sacola de papel kraft\n",
       "1    porta retrato com palitos de sorvete\n",
       "2                   lembrancinha batizado\n",
       "3                      puxadores infantil\n",
       "4                     sapatinhos de trico\n",
       "Name: query, dtype: object"
      ]
     },
     "execution_count": 21,
     "metadata": {},
     "output_type": "execute_result"
    }
   ],
   "source": [
    "query = X_train['query'].copy()\n",
    "query.head()"
   ]
  },
  {
   "cell_type": "code",
   "execution_count": 22,
   "metadata": {
    "colab": {
     "base_uri": "https://localhost:8080/"
    },
    "executionInfo": {
     "elapsed": 2100,
     "status": "ok",
     "timestamp": 1623948411414,
     "user": {
      "displayName": "Lucas Buk Cardoso",
      "photoUrl": "",
      "userId": "13718893696373545505"
     },
     "user_tz": 180
    },
    "id": "epHZttq-uPi-",
    "outputId": "10ee44ff-3006-4001-a2e7-a38435236d5d"
   },
   "outputs": [
    {
     "data": {
      "text/plain": [
       "0     [sacola, kraft, media, c/, papel, rendado]\n",
       "1                             [caixa, porta-chá]\n",
       "2                       [lembrancinha, batizado]\n",
       "3                [puxadores, bichinhos, de, mar]\n",
       "4    [sapatinho, de, bebê, somente, no, atacado]\n",
       "Name: title, dtype: object"
      ]
     },
     "execution_count": 22,
     "metadata": {},
     "output_type": "execute_result"
    }
   ],
   "source": [
    "from nltk.tokenize import word_tokenize\n",
    "\n",
    "# Minúsculo e Tokenizer\n",
    "title = title.apply(minusculo)\n",
    "\n",
    "title_token = title.apply(word_tokenize)\n",
    "title_token.head()"
   ]
  },
  {
   "cell_type": "code",
   "execution_count": 23,
   "metadata": {
    "colab": {
     "base_uri": "https://localhost:8080/"
    },
    "executionInfo": {
     "elapsed": 1968,
     "status": "ok",
     "timestamp": 1623948413379,
     "user": {
      "displayName": "Lucas Buk Cardoso",
      "photoUrl": "",
      "userId": "13718893696373545505"
     },
     "user_tz": 180
    },
    "id": "u6bJy0YsWDpE",
    "outputId": "75426eec-0dc9-4fde-8b9b-4cac30ad06ca"
   },
   "outputs": [
    {
     "data": {
      "text/plain": [
       "0                     [sacola, de, papel, kraft]\n",
       "1    [porta, retrato, com, palitos, de, sorvete]\n",
       "2                       [lembrancinha, batizado]\n",
       "3                          [puxadores, infantil]\n",
       "4                        [sapatinhos, de, trico]\n",
       "Name: query, dtype: object"
      ]
     },
     "execution_count": 23,
     "metadata": {},
     "output_type": "execute_result"
    }
   ],
   "source": [
    "# Minúsculo e Tokenizer\n",
    "query = query.apply(minusculo)\n",
    "\n",
    "query_token = query.apply(word_tokenize)\n",
    "query_token.head()"
   ]
  },
  {
   "cell_type": "code",
   "execution_count": 24,
   "metadata": {
    "id": "efes2DiPwfjh"
   },
   "outputs": [],
   "source": [
    "from nltk.corpus import stopwords\n",
    "from string import punctuation\n",
    "\n",
    "stw = stopwords.words('portuguese')\n",
    "pont = list(punctuation)\n",
    "\n",
    "stw_pt = list(set(stw + pont)) # Lista com stop words e pontuação"
   ]
  },
  {
   "cell_type": "code",
   "execution_count": 25,
   "metadata": {
    "collapsed": true,
    "id": "9WUR8MvdyC0g",
    "jupyter": {
     "outputs_hidden": true
    },
    "outputId": "89d107d3-26dc-4247-bbc5-203822580e9c",
    "tags": []
   },
   "outputs": [
    {
     "name": "stderr",
     "output_type": "stream",
     "text": [
      "c:\\users\\lucas\\anaconda3\\envs\\elo7env\\lib\\site-packages\\ipykernel_launcher.py:3: SettingWithCopyWarning: \n",
      "A value is trying to be set on a copy of a slice from a DataFrame.\n",
      "Try using .loc[row_indexer,col_indexer] = value instead\n",
      "\n",
      "See the caveats in the documentation: https://pandas.pydata.org/pandas-docs/stable/user_guide/indexing.html#returning-a-view-versus-a-copy\n",
      "  This is separate from the ipykernel package so we can avoid doing imports until\n"
     ]
    }
   ],
   "source": [
    "# Remoção das stops words e reconstrução das frases\n",
    "title_token_sem_stop = title_token.apply(remover_stops, stw_parametro = stw_pt)\n",
    "X_train['title_final'] = title_token_sem_stop.apply(reconstroi_frase)"
   ]
  },
  {
   "cell_type": "code",
   "execution_count": 26,
   "metadata": {
    "collapsed": true,
    "id": "IGgsRs0wWDpG",
    "jupyter": {
     "outputs_hidden": true
    },
    "outputId": "51c106ea-608e-4943-b790-d2a32cf99557",
    "tags": []
   },
   "outputs": [
    {
     "name": "stderr",
     "output_type": "stream",
     "text": [
      "c:\\users\\lucas\\anaconda3\\envs\\elo7env\\lib\\site-packages\\ipykernel_launcher.py:3: SettingWithCopyWarning: \n",
      "A value is trying to be set on a copy of a slice from a DataFrame.\n",
      "Try using .loc[row_indexer,col_indexer] = value instead\n",
      "\n",
      "See the caveats in the documentation: https://pandas.pydata.org/pandas-docs/stable/user_guide/indexing.html#returning-a-view-versus-a-copy\n",
      "  This is separate from the ipykernel package so we can avoid doing imports until\n"
     ]
    }
   ],
   "source": [
    "# Remoção das stops words e reconstrução das frases\n",
    "query_token_sem_stop = query_token.apply(remover_stops, stw_parametro = stw_pt)\n",
    "X_train['query_final'] = query_token_sem_stop.apply(reconstroi_frase)"
   ]
  },
  {
   "cell_type": "code",
   "execution_count": 27,
   "metadata": {
    "colab": {
     "base_uri": "https://localhost:8080/"
    },
    "executionInfo": {
     "elapsed": 212,
     "status": "ok",
     "timestamp": 1623948420856,
     "user": {
      "displayName": "Lucas Buk Cardoso",
      "photoUrl": "",
      "userId": "13718893696373545505"
     },
     "user_tz": 180
    },
    "id": "UDlhaLWL3rSj",
    "outputId": "02c2b9fb-453e-420f-c685-2e6a2dfff08d"
   },
   "outputs": [
    {
     "data": {
      "text/plain": [
       "(28880, 1320)"
      ]
     },
     "execution_count": 27,
     "metadata": {},
     "output_type": "execute_result"
    }
   ],
   "source": [
    "from sklearn.feature_extraction.text import CountVectorizer\n",
    "\n",
    "# Vetorizador da coluna title\n",
    "vect_title = CountVectorizer(analyzer = 'word', min_df = 10, max_df= 0.8)\n",
    "\n",
    "X_train_title = vect_title.fit_transform(X_train['title_final'])\n",
    "X_train_title.shape"
   ]
  },
  {
   "cell_type": "code",
   "execution_count": 28,
   "metadata": {
    "colab": {
     "base_uri": "https://localhost:8080/"
    },
    "executionInfo": {
     "elapsed": 6,
     "status": "ok",
     "timestamp": 1623948422192,
     "user": {
      "displayName": "Lucas Buk Cardoso",
      "photoUrl": "",
      "userId": "13718893696373545505"
     },
     "user_tz": 180
    },
    "id": "6Saxd8oaWDpH",
    "outputId": "8ace83fb-2d61-4f04-af1c-57e6e778b619"
   },
   "outputs": [
    {
     "data": {
      "text/plain": [
       "(28880, 844)"
      ]
     },
     "execution_count": 28,
     "metadata": {},
     "output_type": "execute_result"
    }
   ],
   "source": [
    "# Vetorizador da coluna query\n",
    "vect_query = CountVectorizer(analyzer = 'word', min_df = 10, max_df= 0.8)\n",
    "\n",
    "X_train_query = vect_query.fit_transform(X_train['query_final'])\n",
    "X_train_query.shape"
   ]
  },
  {
   "cell_type": "code",
   "execution_count": 29,
   "metadata": {
    "colab": {
     "base_uri": "https://localhost:8080/"
    },
    "executionInfo": {
     "elapsed": 1377,
     "status": "ok",
     "timestamp": 1623948424902,
     "user": {
      "displayName": "Lucas Buk Cardoso",
      "photoUrl": "",
      "userId": "13718893696373545505"
     },
     "user_tz": 180
    },
    "id": "Xz7tkIqMWDpI",
    "outputId": "5af51276-05aa-4bfb-dc84-f1c9dceba60d"
   },
   "outputs": [
    {
     "data": {
      "text/plain": [
       "(28880, 2164)"
      ]
     },
     "execution_count": 29,
     "metadata": {},
     "output_type": "execute_result"
    }
   ],
   "source": [
    "# Merge para formar o DataFrame de treino\n",
    "X_train_title_query = pd.merge(pd.DataFrame(X_train_title.todense()), pd.DataFrame(X_train_query.todense()), \n",
    "                               left_index=True, right_index=True)\n",
    "X_train_title_query.shape"
   ]
  },
  {
   "cell_type": "markdown",
   "metadata": {
    "id": "XzVPpaHxwV4T"
   },
   "source": [
    "### **Normalização**"
   ]
  },
  {
   "cell_type": "markdown",
   "metadata": {
    "id": "0C5wPkmv0J_C"
   },
   "source": [
    "Normalização das colunas númericas presentes no dataset."
   ]
  },
  {
   "cell_type": "code",
   "execution_count": 66,
   "metadata": {
    "id": "mgFVY22sp0pr"
   },
   "outputs": [
    {
     "data": {
      "text/plain": [
       "Index(['product_id', 'seller_id', 'search_page', 'position', 'price', 'weight',\n",
       "       'express_delivery', 'minimum_quantity', 'view_counts', 'order_counts',\n",
       "       'creation_year', 'creation_month', 'creation_day'],\n",
       "      dtype='object')"
      ]
     },
     "execution_count": 66,
     "metadata": {},
     "output_type": "execute_result"
    }
   ],
   "source": [
    "numericos = X_train.select_dtypes(exclude='object').columns\n",
    "numericos"
   ]
  },
  {
   "cell_type": "code",
   "execution_count": 31,
   "metadata": {
    "collapsed": true,
    "id": "geE1s83yqGfG",
    "jupyter": {
     "outputs_hidden": true
    },
    "outputId": "97f0c853-c45b-4200-c691-a05154b8b169",
    "tags": []
   },
   "outputs": [
    {
     "name": "stderr",
     "output_type": "stream",
     "text": [
      "c:\\users\\lucas\\anaconda3\\envs\\elo7env\\lib\\site-packages\\ipykernel_launcher.py:4: SettingWithCopyWarning: \n",
      "A value is trying to be set on a copy of a slice from a DataFrame.\n",
      "Try using .loc[row_indexer,col_indexer] = value instead\n",
      "\n",
      "See the caveats in the documentation: https://pandas.pydata.org/pandas-docs/stable/user_guide/indexing.html#returning-a-view-versus-a-copy\n",
      "  after removing the cwd from sys.path.\n",
      "c:\\users\\lucas\\anaconda3\\envs\\elo7env\\lib\\site-packages\\pandas\\core\\indexing.py:1734: SettingWithCopyWarning: \n",
      "A value is trying to be set on a copy of a slice from a DataFrame.\n",
      "Try using .loc[row_indexer,col_indexer] = value instead\n",
      "\n",
      "See the caveats in the documentation: https://pandas.pydata.org/pandas-docs/stable/user_guide/indexing.html#returning-a-view-versus-a-copy\n",
      "  isetter(loc, value[:, i].tolist())\n"
     ]
    }
   ],
   "source": [
    "from sklearn.preprocessing import MinMaxScaler\n",
    "\n",
    "minmax = MinMaxScaler()\n",
    "X_train[numericos] = minmax.fit_transform(X_train[numericos])"
   ]
  },
  {
   "cell_type": "code",
   "execution_count": 32,
   "metadata": {
    "colab": {
     "base_uri": "https://localhost:8080/"
    },
    "executionInfo": {
     "elapsed": 212,
     "status": "ok",
     "timestamp": 1623948428800,
     "user": {
      "displayName": "Lucas Buk Cardoso",
      "photoUrl": "",
      "userId": "13718893696373545505"
     },
     "user_tz": 180
    },
    "id": "dktQ99Crq1rK",
    "outputId": "2540b139-06c6-474e-9601-3a01330a2b15"
   },
   "outputs": [
    {
     "data": {
      "text/plain": [
       "(28880, 2177)"
      ]
     },
     "execution_count": 32,
     "metadata": {},
     "output_type": "execute_result"
    }
   ],
   "source": [
    "X_train_ = X_train_title_query.merge(X_train[numericos], how='left', left_index=True, right_index=True)\n",
    "X_train_.shape"
   ]
  },
  {
   "cell_type": "markdown",
   "metadata": {
    "id": "jb0n9PoJwacw"
   },
   "source": [
    "### **Balanceamento**"
   ]
  },
  {
   "cell_type": "markdown",
   "metadata": {
    "id": "Dv2blzYhz9i0"
   },
   "source": [
    "Utilização do método oversampling para balanceamento dos dados de treino."
   ]
  },
  {
   "cell_type": "code",
   "execution_count": 33,
   "metadata": {
    "colab": {
     "base_uri": "https://localhost:8080/"
    },
    "executionInfo": {
     "elapsed": 196,
     "status": "ok",
     "timestamp": 1623948431096,
     "user": {
      "displayName": "Lucas Buk Cardoso",
      "photoUrl": "",
      "userId": "13718893696373545505"
     },
     "user_tz": 180
    },
    "id": "raising-warren",
    "outputId": "7a06482a-1968-455f-fe07-487bb6830536"
   },
   "outputs": [
    {
     "data": {
      "text/plain": [
       "3    13129\n",
       "2     6844\n",
       "0     5472\n",
       "5     1902\n",
       "4      818\n",
       "1      715\n",
       "Name: category, dtype: int64"
      ]
     },
     "execution_count": 33,
     "metadata": {},
     "output_type": "execute_result"
    }
   ],
   "source": [
    "# Quantidade de valores para cada label nos dados de treino\n",
    "y_train.value_counts()"
   ]
  },
  {
   "cell_type": "code",
   "execution_count": 34,
   "metadata": {
    "id": "civil-sugar"
   },
   "outputs": [],
   "source": [
    "# Fazendo o Oversampling dos dados de treino\n",
    "from imblearn.over_sampling import SMOTE\n",
    "\n",
    "X_, y_ = SMOTE(random_state=0).fit_resample(X_train_, y_train)"
   ]
  },
  {
   "cell_type": "code",
   "execution_count": 35,
   "metadata": {
    "id": "empty-chuck",
    "outputId": "b4e15ba1-4e34-472e-8fba-dd48a5ead222",
    "tags": []
   },
   "outputs": [
    {
     "data": {
      "text/plain": [
       "5    13129\n",
       "4    13129\n",
       "3    13129\n",
       "2    13129\n",
       "1    13129\n",
       "0    13129\n",
       "Name: category, dtype: int64"
      ]
     },
     "execution_count": 35,
     "metadata": {},
     "output_type": "execute_result"
    }
   ],
   "source": [
    "y_.value_counts()"
   ]
  },
  {
   "cell_type": "markdown",
   "metadata": {
    "id": "macro-surrey"
   },
   "source": [
    "# **Treinamento dos modelos de ML**\n",
    "\n",
    "---\n",
    "\n",
    "Após as etapas de pré-processamento dos dados, será realizado o treinamento dos modelos de classificação LightGBM, MultinomialNB e Regressão Logística.\n",
    "\n",
    "Características de cada modelo:\n",
    "\n",
    "* LightGBM - algoritmo de aprendizagem baseado em árvore utilizando o método de gradient boosting. Apresentou mais rapidez em relação ao XGBoost nos testes realizados com os dados e um excelente desempenho.\n",
    "\n",
    "* MultinomialNB - implementa o algoritmo naive Bayes para dados distribuídos multinomialmente, muito utilizado em problemas com classificação de textos, similares a este trabalho.\n",
    "\n",
    "* Regressão Logística - A regressão logística é um modelo estatístico que em sua forma básica usa uma função logística para modelar uma variável dependente binária, também é de simples implementação e apresentou bons resultados."
   ]
  },
  {
   "cell_type": "code",
   "execution_count": 63,
   "metadata": {
    "colab": {
     "base_uri": "https://localhost:8080/"
    },
    "executionInfo": {
     "elapsed": 96720,
     "status": "ok",
     "timestamp": 1623954849684,
     "user": {
      "displayName": "Lucas Buk Cardoso",
      "photoUrl": "",
      "userId": "13718893696373545505"
     },
     "user_tz": 180
    },
    "id": "3TQ4DVlHMiej",
    "outputId": "41042dfe-f55a-4fd8-fa9f-98b977de651b"
   },
   "outputs": [
    {
     "data": {
      "text/plain": [
       "LGBMClassifier(class_weight={4: 30, 5: 20}, max_depth=15, n_estimators=300)"
      ]
     },
     "execution_count": 63,
     "metadata": {},
     "output_type": "execute_result"
    }
   ],
   "source": [
    "import lightgbm as lgb\n",
    "\n",
    "lightgbm = lgb.LGBMClassifier(n_estimators=300, max_depth=15, \n",
    "                              class_weight={4:30, 5:20}) # Peso maior nas classes 4 e 5 porque modelo apresenta \n",
    "                                                         # menor acertividade nelas\n",
    "lightgbm.fit(X_, y_)"
   ]
  },
  {
   "cell_type": "code",
   "execution_count": 45,
   "metadata": {
    "colab": {
     "base_uri": "https://localhost:8080/"
    },
    "executionInfo": {
     "elapsed": 979,
     "status": "ok",
     "timestamp": 1623952949677,
     "user": {
      "displayName": "Lucas Buk Cardoso",
      "photoUrl": "",
      "userId": "13718893696373545505"
     },
     "user_tz": 180
    },
    "id": "indonesian-truck",
    "outputId": "cb52b8fb-35f7-4ce5-fcc7-753163a76894"
   },
   "outputs": [
    {
     "data": {
      "text/plain": [
       "MultinomialNB()"
      ]
     },
     "execution_count": 45,
     "metadata": {},
     "output_type": "execute_result"
    }
   ],
   "source": [
    "from sklearn.naive_bayes import MultinomialNB\n",
    "\n",
    "multiNB = MultinomialNB()\n",
    "multiNB.fit(X_, y_)"
   ]
  },
  {
   "cell_type": "code",
   "execution_count": 60,
   "metadata": {
    "id": "Ou4wSD1r0lXd",
    "outputId": "fefc2e03-6de4-47ce-b690-df91e0e70bf2"
   },
   "outputs": [
    {
     "name": "stderr",
     "output_type": "stream",
     "text": [
      "c:\\users\\lucas\\anaconda3\\envs\\elo7env\\lib\\site-packages\\sklearn\\linear_model\\_logistic.py:765: ConvergenceWarning: lbfgs failed to converge (status=1):\n",
      "STOP: TOTAL NO. of ITERATIONS REACHED LIMIT.\n",
      "\n",
      "Increase the number of iterations (max_iter) or scale the data as shown in:\n",
      "    https://scikit-learn.org/stable/modules/preprocessing.html\n",
      "Please also refer to the documentation for alternative solver options:\n",
      "    https://scikit-learn.org/stable/modules/linear_model.html#logistic-regression\n",
      "  extra_warning_msg=_LOGISTIC_SOLVER_CONVERGENCE_MSG)\n"
     ]
    },
    {
     "data": {
      "text/plain": [
       "LogisticRegression(class_weight={1: 0.5, 4: 10, 5: 3}, max_iter=150)"
      ]
     },
     "execution_count": 60,
     "metadata": {},
     "output_type": "execute_result"
    }
   ],
   "source": [
    "from sklearn.linear_model import LogisticRegression\n",
    "\n",
    "lr = LogisticRegression(max_iter=150, \n",
    "                        class_weight={1:0.5, 4:10, 5:3}) # Peso maior nas classes 4 e 5 porque modelo apresenta \n",
    "                                                         # menor acertividade nelas, caso oposto para a classe 1\n",
    "lr.fit(X_,y_)"
   ]
  },
  {
   "cell_type": "markdown",
   "metadata": {
    "id": "controversial-acquisition"
   },
   "source": [
    "# **Validação dos modelos**\n",
    "\n",
    "---\n",
    "\n",
    "Após o treinamento dos modelos, utiliza-se os dados de teste para verificar o desempenho dos modelos utilizados. Porém, é necessário realizar o pré-processamento dos dados de teste antes da validação."
   ]
  },
  {
   "cell_type": "markdown",
   "metadata": {
    "id": "-wX-WKr36-YT"
   },
   "source": [
    "### **Pré-processamento dos dados de teste**"
   ]
  },
  {
   "cell_type": "code",
   "execution_count": 37,
   "metadata": {
    "id": "xn4-CGv588q5"
   },
   "outputs": [],
   "source": [
    "def test_preprocessing(X_test, vect_title, vect_query, norm):\n",
    "    \"\"\"Função para realizar o pré-processamento dos dados de teste\n",
    "    \"\"\"\n",
    "\n",
    "    df_aux = X_test.copy().reset_index(drop=True)\n",
    "\n",
    "    # Data\n",
    "    df_aux['creation_year'] = pd.to_datetime(df_aux.creation_date, format='%Y-%m-%d %H:%M:%S').dt.year\n",
    "    df_aux['creation_month'] = pd.to_datetime(df_aux.creation_date, format='%Y-%m-%d %H:%M:%S').dt.month\n",
    "    df_aux['creation_day'] = pd.to_datetime(df_aux.creation_date, format='%Y-%m-%d %H:%M:%S').dt.day\n",
    "\n",
    "    df.drop(columns='creation_date', inplace=True)\n",
    "\n",
    "    # Title\n",
    "    title_test = df_aux['title'].apply(minusculo)\n",
    "    title_test = title_test.apply(word_tokenize)\n",
    "    title_test = title_test.apply(remover_stops, stw_parametro = stw_pt)\n",
    "    df_aux['title_final'] = title_test.apply(reconstroi_frase)\n",
    "    X_test_title = vect_title.transform(df_aux['title_final'])\n",
    "\n",
    "    # Query\n",
    "    query_test = df_aux['query'].apply(minusculo)\n",
    "    query_test = query_test.apply(word_tokenize)\n",
    "    query_test = query_test.apply(remover_stops, stw_parametro = stw_pt)\n",
    "    df_aux['query_final'] = query_test.apply(reconstroi_frase)\n",
    "    X_test_query = vect_query.transform(df_aux['query_final'])\n",
    "\n",
    "    # Merge\n",
    "    X_test_title_query = pd.merge(pd.DataFrame(X_test_title.todense()), pd.DataFrame(X_test_query.todense()), \n",
    "                                  left_index=True, right_index=True)\n",
    "    \n",
    "    # Normalização\n",
    "    df_aux[numericos] = minmax.transform(df_aux[numericos].copy())\n",
    "    X_test_ = X_test_title_query.merge(df_aux[numericos], how='left', left_index=True, right_index=True)\n",
    "\n",
    "    return X_test_"
   ]
  },
  {
   "cell_type": "code",
   "execution_count": 38,
   "metadata": {
    "colab": {
     "base_uri": "https://localhost:8080/"
    },
    "executionInfo": {
     "elapsed": 2699,
     "status": "ok",
     "timestamp": 1623948729083,
     "user": {
      "displayName": "Lucas Buk Cardoso",
      "photoUrl": "",
      "userId": "13718893696373545505"
     },
     "user_tz": 180
    },
    "id": "NLpPcMkxBKbo",
    "outputId": "2f4cfe86-dc79-4f35-f37b-e6d480e0f47c"
   },
   "outputs": [
    {
     "data": {
      "text/plain": [
       "(9627, 2177)"
      ]
     },
     "execution_count": 38,
     "metadata": {},
     "output_type": "execute_result"
    }
   ],
   "source": [
    "X_test_ = test_preprocessing(X_test, vect_title, vect_query, minmax)\n",
    "X_test_.shape"
   ]
  },
  {
   "cell_type": "markdown",
   "metadata": {
    "id": "5KbJXycQ7Mcx"
   },
   "source": [
    "### **Matriz de confusão**"
   ]
  },
  {
   "cell_type": "markdown",
   "metadata": {
    "id": "hidden-helping"
   },
   "source": [
    "Validação dos modelos LightGBM, MultinomialNB e Regressão Logística utilizando a matriz de confusão para verificar o desempenho deles para as classes, visando um desempenho equilibrado na diagonal principal da matriz. "
   ]
  },
  {
   "cell_type": "code",
   "execution_count": 49,
   "metadata": {
    "id": "yGEUVmJK0lXh"
   },
   "outputs": [
    {
     "data": {
      "text/plain": [
       "['Bebê',\n",
       " 'Bijuterias e Jóias',\n",
       " 'Decoração',\n",
       " 'Lembrancinhas',\n",
       " 'Outros',\n",
       " 'Papel e Cia']"
      ]
     },
     "execution_count": 49,
     "metadata": {},
     "output_type": "execute_result"
    }
   ],
   "source": [
    "from sklearn.metrics import plot_confusion_matrix, accuracy_score\n",
    "\n",
    "labels = lb.classes_.tolist()\n",
    "labels"
   ]
  },
  {
   "cell_type": "code",
   "execution_count": 64,
   "metadata": {
    "id": "Y24S0TCd0lXh",
    "outputId": "947f99c1-1684-4876-f922-d820e36ffdfa"
   },
   "outputs": [
    {
     "data": {
      "image/png": "[encoded data removed]",
      "text/plain": [
       "<Figure size 432x288 with 2 Axes>"
      ]
     },
     "metadata": {
      "needs_background": "light"
     },
     "output_type": "display_data"
    }
   ],
   "source": [
    "# LightGBM\n",
    "plot_confusion_matrix(lightgbm, X=X_test_.values, y_true=y_test, cmap='Blues', \n",
    "                      normalize='true', values_format='.2f', display_labels=labels, \n",
    "                      xticks_rotation='vertical')\n",
    "plt.show()"
   ]
  },
  {
   "cell_type": "code",
   "execution_count": 65,
   "metadata": {
    "id": "QAGu_hIh0lXi",
    "outputId": "5ef5c2d5-477c-46a1-b5d3-348271f3db86"
   },
   "outputs": [
    {
     "name": "stdout",
     "output_type": "stream",
     "text": [
      "Acurácia do modelo LightGBM = 0.82\n"
     ]
    }
   ],
   "source": [
    "acc_lgb = accuracy_score(y_test, lightgbm.predict(X_test_.values))\n",
    "print(f'Acurácia do modelo LightGBM = {acc_lgb:.2f}')"
   ]
  },
  {
   "cell_type": "code",
   "execution_count": 52,
   "metadata": {
    "colab": {
     "base_uri": "https://localhost:8080/",
     "height": 279
    },
    "executionInfo": {
     "elapsed": 666,
     "status": "ok",
     "timestamp": 1623954419724,
     "user": {
      "displayName": "Lucas Buk Cardoso",
      "photoUrl": "",
      "userId": "13718893696373545505"
     },
     "user_tz": 180
    },
    "id": "6a8mYeoRMYy7",
    "outputId": "2cb3c73a-c7a5-4017-b302-6054eda89173"
   },
   "outputs": [
    {
     "data": {
      "image/png": "[encoded data removed]",
      "text/plain": [
       "<Figure size 432x288 with 2 Axes>"
      ]
     },
     "metadata": {
      "needs_background": "light"
     },
     "output_type": "display_data"
    }
   ],
   "source": [
    "# MultinomialNB\n",
    "plot_confusion_matrix(multiNB, X=X_test_.values, y_true=y_test, cmap='Blues',\n",
    "                      normalize='true', values_format='.2f', display_labels=labels, \n",
    "                      xticks_rotation='vertical')\n",
    "plt.show()"
   ]
  },
  {
   "cell_type": "code",
   "execution_count": 53,
   "metadata": {
    "id": "kF4THejg0lXj",
    "outputId": "8267132f-861b-4211-f678-876c880a8a06"
   },
   "outputs": [
    {
     "name": "stdout",
     "output_type": "stream",
     "text": [
      "Acurácia do modelo MultinomialNB = 0.81\n"
     ]
    }
   ],
   "source": [
    "acc_multinb = accuracy_score(y_test, multiNB.predict(X_test_.values))\n",
    "print(f'Acurácia do modelo MultinomialNB = {acc_multinb:.2f}')"
   ]
  },
  {
   "cell_type": "code",
   "execution_count": 54,
   "metadata": {
    "colab": {
     "base_uri": "https://localhost:8080/",
     "height": 279
    },
    "executionInfo": {
     "elapsed": 673,
     "status": "ok",
     "timestamp": 1623956073047,
     "user": {
      "displayName": "Lucas Buk Cardoso",
      "photoUrl": "",
      "userId": "13718893696373545505"
     },
     "user_tz": 180
    },
    "id": "Le7HDb4lMDZZ",
    "outputId": "28437e90-e4c9-4160-93bd-c3db38fad190"
   },
   "outputs": [
    {
     "data": {
      "image/png": "[encoded data removed]",
      "text/plain": [
       "<Figure size 432x288 with 2 Axes>"
      ]
     },
     "metadata": {
      "needs_background": "light"
     },
     "output_type": "display_data"
    }
   ],
   "source": [
    "# Regressão Logística\n",
    "plot_confusion_matrix(lr, X=X_test_.values, y_true=y_test, cmap='Blues', \n",
    "                      normalize='true', values_format='.2f', display_labels=labels, \n",
    "                      xticks_rotation='vertical')\n",
    "plt.show()"
   ]
  },
  {
   "cell_type": "code",
   "execution_count": 55,
   "metadata": {
    "id": "4auqPIjt0lXk",
    "outputId": "76ab3878-c2cf-43b4-ec41-4438e1914fb1"
   },
   "outputs": [
    {
     "name": "stdout",
     "output_type": "stream",
     "text": [
      "Acurácia do modelo Regressão Logística = 0.80\n"
     ]
    }
   ],
   "source": [
    "acc_lr = accuracy_score(y_test, lr.predict(X_test_.values))\n",
    "print(f'Acurácia do modelo Regressão Logística = {acc_lr:.2f}')"
   ]
  },
  {
   "cell_type": "markdown",
   "metadata": {
    "id": "kXNafBU80lXl"
   },
   "source": [
    "## **Conclusão**\n",
    "\n",
    "Observa-se um bom desempenho nos três modelos utilizados, além de uma acurácia bem similar em todos eles. O modelo LightGBM apresentou a melhor performance e a matriz de confusão mais equilibrada, então possui acertividade parecida para todas as classes, já o modelo MultinomialNB possui a matriz mais desequilibrada, mas é o modelo mais rápido de ser treinado e possui um bom desempenho levando isso em consideração. A regressão logística apresentou um desempenho comparável ao LightGBM, mas com a acurácia ligeiramente menor."
   ]
  },
  {
   "cell_type": "markdown",
   "metadata": {
    "id": "cLxeUS0523nw"
   },
   "source": [
    "# **Segunda abordagem**"
   ]
  },
  {
   "cell_type": "markdown",
   "metadata": {
    "id": "YEEeqShDrh4D"
   },
   "source": [
    "## **Bibliotecas**\n",
    "\n",
    "---"
   ]
  },
  {
   "cell_type": "code",
   "execution_count": 1,
   "metadata": {
    "executionInfo": {
     "elapsed": 5,
     "status": "ok",
     "timestamp": 1624327324971,
     "user": {
      "displayName": "Lucas Buk Cardoso",
      "photoUrl": "",
      "userId": "13718893696373545505"
     },
     "user_tz": 180
    },
    "id": "Qg_QQBfcrh4D"
   },
   "outputs": [],
   "source": [
    "# Importação de todas as bibliotecas que serão utilizadas nesta etapa do notebook \n",
    "import pandas as pd\n",
    "import numpy as np\n",
    "from imblearn.over_sampling import SMOTE\n",
    "from sklearn.model_selection import train_test_split\n",
    "\n",
    "import spacy\n",
    "from spacy.util import minibatch\n",
    "import random\n",
    "\n",
    "from sklearn.metrics import confusion_matrix\n",
    "import matplotlib.pyplot as plt\n",
    "import seaborn as sns"
   ]
  },
  {
   "cell_type": "markdown",
   "metadata": {
    "id": "rsg_8sCPrh4E"
   },
   "source": [
    "## **Aquisição de Dados**\n",
    "\n",
    "---"
   ]
  },
  {
   "cell_type": "code",
   "execution_count": 4,
   "metadata": {
    "colab": {
     "base_uri": "https://localhost:8080/",
     "height": 428
    },
    "executionInfo": {
     "elapsed": 1214,
     "status": "ok",
     "timestamp": 1624327382008,
     "user": {
      "displayName": "Lucas Buk Cardoso",
      "photoUrl": "",
      "userId": "13718893696373545505"
     },
     "user_tz": 180
    },
    "id": "YHC9W5Imrh4E",
    "outputId": "cfa772e3-7f38-4bfd-9909-0edcbe92051e"
   },
   "outputs": [
    {
     "data": {
      "text/html": [
       "<div>\n",
       "<style scoped>\n",
       "    .dataframe tbody tr th:only-of-type {\n",
       "        vertical-align: middle;\n",
       "    }\n",
       "\n",
       "    .dataframe tbody tr th {\n",
       "        vertical-align: top;\n",
       "    }\n",
       "\n",
       "    .dataframe thead th {\n",
       "        text-align: right;\n",
       "    }\n",
       "</style>\n",
       "<table border=\"1\" class=\"dataframe\">\n",
       "  <thead>\n",
       "    <tr style=\"text-align: right;\">\n",
       "      <th></th>\n",
       "      <th>product_id</th>\n",
       "      <th>seller_id</th>\n",
       "      <th>query</th>\n",
       "      <th>search_page</th>\n",
       "      <th>position</th>\n",
       "      <th>title</th>\n",
       "      <th>concatenated_tags</th>\n",
       "      <th>creation_date</th>\n",
       "      <th>price</th>\n",
       "      <th>weight</th>\n",
       "      <th>express_delivery</th>\n",
       "      <th>minimum_quantity</th>\n",
       "      <th>view_counts</th>\n",
       "      <th>order_counts</th>\n",
       "      <th>category</th>\n",
       "    </tr>\n",
       "  </thead>\n",
       "  <tbody>\n",
       "    <tr>\n",
       "      <th>0</th>\n",
       "      <td>11394449</td>\n",
       "      <td>8324141</td>\n",
       "      <td>espirito santo</td>\n",
       "      <td>2</td>\n",
       "      <td>6</td>\n",
       "      <td>Mandala Espírito Santo</td>\n",
       "      <td>mandala mdf</td>\n",
       "      <td>2015-11-14 19:42:12</td>\n",
       "      <td>171.890000</td>\n",
       "      <td>1200.0</td>\n",
       "      <td>1</td>\n",
       "      <td>4</td>\n",
       "      <td>244</td>\n",
       "      <td>NaN</td>\n",
       "      <td>Decoração</td>\n",
       "    </tr>\n",
       "    <tr>\n",
       "      <th>1</th>\n",
       "      <td>15534262</td>\n",
       "      <td>6939286</td>\n",
       "      <td>cartao de visita</td>\n",
       "      <td>2</td>\n",
       "      <td>0</td>\n",
       "      <td>Cartão de Visita</td>\n",
       "      <td>cartao visita panfletos tag adesivos copos lon...</td>\n",
       "      <td>2018-04-04 20:55:07</td>\n",
       "      <td>77.670000</td>\n",
       "      <td>8.0</td>\n",
       "      <td>1</td>\n",
       "      <td>5</td>\n",
       "      <td>124</td>\n",
       "      <td>NaN</td>\n",
       "      <td>Papel e Cia</td>\n",
       "    </tr>\n",
       "    <tr>\n",
       "      <th>2</th>\n",
       "      <td>16153119</td>\n",
       "      <td>9835835</td>\n",
       "      <td>expositor de esmaltes</td>\n",
       "      <td>1</td>\n",
       "      <td>38</td>\n",
       "      <td>Organizador expositor p/ 70 esmaltes</td>\n",
       "      <td>expositor</td>\n",
       "      <td>2018-10-13 20:57:07</td>\n",
       "      <td>73.920006</td>\n",
       "      <td>2709.0</td>\n",
       "      <td>1</td>\n",
       "      <td>1</td>\n",
       "      <td>59</td>\n",
       "      <td>NaN</td>\n",
       "      <td>Outros</td>\n",
       "    </tr>\n",
       "    <tr>\n",
       "      <th>3</th>\n",
       "      <td>15877252</td>\n",
       "      <td>8071206</td>\n",
       "      <td>medidas lencol para berco americano</td>\n",
       "      <td>1</td>\n",
       "      <td>6</td>\n",
       "      <td>Jogo de Lençol Berço Estampado</td>\n",
       "      <td>t jogo lencol menino lencol berco</td>\n",
       "      <td>2017-02-27 13:26:03</td>\n",
       "      <td>118.770004</td>\n",
       "      <td>0.0</td>\n",
       "      <td>1</td>\n",
       "      <td>1</td>\n",
       "      <td>180</td>\n",
       "      <td>1.0</td>\n",
       "      <td>Bebê</td>\n",
       "    </tr>\n",
       "    <tr>\n",
       "      <th>4</th>\n",
       "      <td>15917108</td>\n",
       "      <td>7200773</td>\n",
       "      <td>adesivo box banheiro</td>\n",
       "      <td>3</td>\n",
       "      <td>38</td>\n",
       "      <td>ADESIVO BOX DE BANHEIRO</td>\n",
       "      <td>adesivo box banheiro</td>\n",
       "      <td>2017-05-09 13:18:38</td>\n",
       "      <td>191.810000</td>\n",
       "      <td>507.0</td>\n",
       "      <td>1</td>\n",
       "      <td>6</td>\n",
       "      <td>34</td>\n",
       "      <td>NaN</td>\n",
       "      <td>Decoração</td>\n",
       "    </tr>\n",
       "  </tbody>\n",
       "</table>\n",
       "</div>"
      ],
      "text/plain": [
       "   product_id  seller_id  ... order_counts     category\n",
       "0    11394449    8324141  ...          NaN    Decoração\n",
       "1    15534262    6939286  ...          NaN  Papel e Cia\n",
       "2    16153119    9835835  ...          NaN       Outros\n",
       "3    15877252    8071206  ...          1.0         Bebê\n",
       "4    15917108    7200773  ...          NaN    Decoração\n",
       "\n",
       "[5 rows x 15 columns]"
      ]
     },
     "execution_count": 4,
     "metadata": {
      "tags": []
     },
     "output_type": "execute_result"
    }
   ],
   "source": [
    "# Leitura dos dados que serão utilzados\n",
    "df = pd.read_csv('../data/01_raw/products_dataset.csv') \n",
    "df.head()"
   ]
  },
  {
   "cell_type": "markdown",
   "metadata": {
    "id": "wZrqv1M9rh4K"
   },
   "source": [
    "## **Processando Dataset**\n",
    "\n",
    "---"
   ]
  },
  {
   "cell_type": "markdown",
   "metadata": {
    "id": "rN0S9QNbrh4K"
   },
   "source": [
    "### Removendo valores nulos"
   ]
  },
  {
   "cell_type": "code",
   "execution_count": 5,
   "metadata": {
    "colab": {
     "base_uri": "https://localhost:8080/"
    },
    "executionInfo": {
     "elapsed": 245,
     "status": "ok",
     "timestamp": 1624327387644,
     "user": {
      "displayName": "Lucas Buk Cardoso",
      "photoUrl": "",
      "userId": "13718893696373545505"
     },
     "user_tz": 180
    },
    "id": "FM97te1Urh4J",
    "outputId": "c991e56e-0a47-4e82-ed3c-9fd6f6f27c09"
   },
   "outputs": [
    {
     "data": {
      "text/plain": [
       "Index(['product_id', 'seller_id', 'search_page', 'position', 'price', 'weight',\n",
       "       'express_delivery', 'minimum_quantity', 'view_counts', 'order_counts'],\n",
       "      dtype='object')"
      ]
     },
     "execution_count": 5,
     "metadata": {
      "tags": []
     },
     "output_type": "execute_result"
    }
   ],
   "source": [
    "# Salva em 'numericos' todos os nomes das colunas que não são do tipo object\n",
    "numericos = df.select_dtypes(exclude='object').columns\n",
    "numericos "
   ]
  },
  {
   "cell_type": "code",
   "execution_count": 6,
   "metadata": {
    "executionInfo": {
     "elapsed": 4,
     "status": "ok",
     "timestamp": 1624327388827,
     "user": {
      "displayName": "Lucas Buk Cardoso",
      "photoUrl": "",
      "userId": "13718893696373545505"
     },
     "user_tz": 180
    },
    "id": "0KkGbRCZrh4K"
   },
   "outputs": [],
   "source": [
    "# Remove valores faltantes das variáveis que são só numéricas, substituindo por 0\n",
    "df[numericos] = df[numericos].fillna(0)"
   ]
  },
  {
   "cell_type": "code",
   "execution_count": 7,
   "metadata": {
    "colab": {
     "base_uri": "https://localhost:8080/"
    },
    "executionInfo": {
     "elapsed": 247,
     "status": "ok",
     "timestamp": 1624327390064,
     "user": {
      "displayName": "Lucas Buk Cardoso",
      "photoUrl": "",
      "userId": "13718893696373545505"
     },
     "user_tz": 180
    },
    "id": "2E7Nna44rh4J",
    "outputId": "73efc957-b9d2-4bf0-c8f8-daa0bd19ad2c"
   },
   "outputs": [
    {
     "data": {
      "text/plain": [
       "Index(['query', 'title', 'concatenated_tags', 'creation_date', 'category'], dtype='object')"
      ]
     },
     "execution_count": 7,
     "metadata": {
      "tags": []
     },
     "output_type": "execute_result"
    }
   ],
   "source": [
    "# Salva em strings todos os nomes das colunas que são do tipo object \n",
    "strings = df.select_dtypes(include='object').columns\n",
    "strings"
   ]
  },
  {
   "cell_type": "code",
   "execution_count": 8,
   "metadata": {
    "executionInfo": {
     "elapsed": 350,
     "status": "ok",
     "timestamp": 1624327391753,
     "user": {
      "displayName": "Lucas Buk Cardoso",
      "photoUrl": "",
      "userId": "13718893696373545505"
     },
     "user_tz": 180
    },
    "id": "2Us9W7U-rh4L"
   },
   "outputs": [],
   "source": [
    "# Remove valores faltantes das variáveis que não são numéricas e substitui por 0, como texto\n",
    "df[strings] = df[strings].fillna('0')"
   ]
  },
  {
   "cell_type": "markdown",
   "metadata": {
    "id": "dated-raleigh"
   },
   "source": [
    "### Separando em dados de treino e teste"
   ]
  },
  {
   "cell_type": "markdown",
   "metadata": {
    "id": "-C0BjR50L4q1"
   },
   "source": [
    "Antes da separação o dataset será ordenado pela data, assim as classificações serão feitas para os valores com a data mais atual. Com isso, será utilizado o parâmetro `shuffle` para que a divisão seja feita na ordem."
   ]
  },
  {
   "cell_type": "code",
   "execution_count": 9,
   "metadata": {
    "colab": {
     "base_uri": "https://localhost:8080/",
     "height": 284
    },
    "executionInfo": {
     "elapsed": 7,
     "status": "ok",
     "timestamp": 1624327394296,
     "user": {
      "displayName": "Lucas Buk Cardoso",
      "photoUrl": "",
      "userId": "13718893696373545505"
     },
     "user_tz": 180
    },
    "id": "19nd0MFuL4q3",
    "outputId": "4984251b-987b-4561-939b-38dff027bf07"
   },
   "outputs": [
    {
     "data": {
      "text/html": [
       "<div>\n",
       "<style scoped>\n",
       "    .dataframe tbody tr th:only-of-type {\n",
       "        vertical-align: middle;\n",
       "    }\n",
       "\n",
       "    .dataframe tbody tr th {\n",
       "        vertical-align: top;\n",
       "    }\n",
       "\n",
       "    .dataframe thead th {\n",
       "        text-align: right;\n",
       "    }\n",
       "</style>\n",
       "<table border=\"1\" class=\"dataframe\">\n",
       "  <thead>\n",
       "    <tr style=\"text-align: right;\">\n",
       "      <th></th>\n",
       "      <th>product_id</th>\n",
       "      <th>seller_id</th>\n",
       "      <th>query</th>\n",
       "      <th>search_page</th>\n",
       "      <th>position</th>\n",
       "      <th>title</th>\n",
       "      <th>concatenated_tags</th>\n",
       "      <th>creation_date</th>\n",
       "      <th>price</th>\n",
       "      <th>weight</th>\n",
       "      <th>express_delivery</th>\n",
       "      <th>minimum_quantity</th>\n",
       "      <th>view_counts</th>\n",
       "      <th>order_counts</th>\n",
       "      <th>category</th>\n",
       "    </tr>\n",
       "  </thead>\n",
       "  <tbody>\n",
       "    <tr>\n",
       "      <th>0</th>\n",
       "      <td>14229551</td>\n",
       "      <td>5243703</td>\n",
       "      <td>sacola de papel kraft</td>\n",
       "      <td>1</td>\n",
       "      <td>21</td>\n",
       "      <td>Sacola kraft media c/ papel rendado</td>\n",
       "      <td>sacolas papel coloridas niver anna's</td>\n",
       "      <td>2008-11-05 22:57:17</td>\n",
       "      <td>12.26</td>\n",
       "      <td>6.0</td>\n",
       "      <td>0</td>\n",
       "      <td>4</td>\n",
       "      <td>129</td>\n",
       "      <td>7.0</td>\n",
       "      <td>Papel e Cia</td>\n",
       "    </tr>\n",
       "    <tr>\n",
       "      <th>1</th>\n",
       "      <td>1125256</td>\n",
       "      <td>9711820</td>\n",
       "      <td>porta retrato com palitos de sorvete</td>\n",
       "      <td>1</td>\n",
       "      <td>19</td>\n",
       "      <td>CAIXA PORTA-CHÁ</td>\n",
       "      <td>artesanato palitos sorvete</td>\n",
       "      <td>2008-11-10 17:43:17</td>\n",
       "      <td>83.94</td>\n",
       "      <td>0.0</td>\n",
       "      <td>0</td>\n",
       "      <td>4</td>\n",
       "      <td>23</td>\n",
       "      <td>7.0</td>\n",
       "      <td>Papel e Cia</td>\n",
       "    </tr>\n",
       "  </tbody>\n",
       "</table>\n",
       "</div>"
      ],
      "text/plain": [
       "   product_id  seller_id  ... order_counts     category\n",
       "0    14229551    5243703  ...          7.0  Papel e Cia\n",
       "1     1125256    9711820  ...          7.0  Papel e Cia\n",
       "\n",
       "[2 rows x 15 columns]"
      ]
     },
     "execution_count": 9,
     "metadata": {
      "tags": []
     },
     "output_type": "execute_result"
    }
   ],
   "source": [
    "df_ordenado = df.sort_values(by='creation_date', ignore_index=True)\n",
    "df_ordenado.head(2)"
   ]
  },
  {
   "cell_type": "code",
   "execution_count": 48,
   "metadata": {
    "executionInfo": {
     "elapsed": 244,
     "status": "ok",
     "timestamp": 1624329807105,
     "user": {
      "displayName": "Lucas Buk Cardoso",
      "photoUrl": "",
      "userId": "13718893696373545505"
     },
     "user_tz": 180
    },
    "id": "BVW7fCXKrh4l"
   },
   "outputs": [],
   "source": [
    "# Divisão em treino e teste\n",
    "label = df_ordenado[\"category\"].copy()\n",
    "feat_colunas = df_ordenado.columns.tolist()\n",
    "feat_colunas.remove(\"category\")\n",
    "feats = df_ordenado[feat_colunas].copy()\n",
    "\n",
    "X_train, X_test, y_train, y_test = train_test_split(feats, label, random_state=0, shuffle=False)"
   ]
  },
  {
   "cell_type": "code",
   "execution_count": 49,
   "metadata": {
    "colab": {
     "base_uri": "https://localhost:8080/"
    },
    "executionInfo": {
     "elapsed": 381,
     "status": "ok",
     "timestamp": 1624329808845,
     "user": {
      "displayName": "Lucas Buk Cardoso",
      "photoUrl": "",
      "userId": "13718893696373545505"
     },
     "user_tz": 180
    },
    "id": "ttVB_HHgrh4m",
    "outputId": "9b75718e-a460-49c2-cb1e-7bfff5657619"
   },
   "outputs": [
    {
     "data": {
      "text/plain": [
       "((28880, 14), (9627, 14), (28880,), (9627,))"
      ]
     },
     "execution_count": 49,
     "metadata": {
      "tags": []
     },
     "output_type": "execute_result"
    }
   ],
   "source": [
    "# Verifica o tamanho dos conjuntos de treino e teste\n",
    "X_train.shape, X_test.shape, y_train.shape, y_test.shape"
   ]
  },
  {
   "cell_type": "code",
   "execution_count": 50,
   "metadata": {
    "colab": {
     "base_uri": "https://localhost:8080/",
     "height": 216
    },
    "executionInfo": {
     "elapsed": 276,
     "status": "ok",
     "timestamp": 1624329810891,
     "user": {
      "displayName": "Lucas Buk Cardoso",
      "photoUrl": "",
      "userId": "13718893696373545505"
     },
     "user_tz": 180
    },
    "id": "N1RzXNMcdSty",
    "outputId": "1aac3ea5-6514-4f2f-b654-b3a329b7bef4"
   },
   "outputs": [
    {
     "data": {
      "text/html": [
       "<div>\n",
       "<style scoped>\n",
       "    .dataframe tbody tr th:only-of-type {\n",
       "        vertical-align: middle;\n",
       "    }\n",
       "\n",
       "    .dataframe tbody tr th {\n",
       "        vertical-align: top;\n",
       "    }\n",
       "\n",
       "    .dataframe thead th {\n",
       "        text-align: right;\n",
       "    }\n",
       "</style>\n",
       "<table border=\"1\" class=\"dataframe\">\n",
       "  <thead>\n",
       "    <tr style=\"text-align: right;\">\n",
       "      <th></th>\n",
       "      <th>product_id</th>\n",
       "      <th>seller_id</th>\n",
       "      <th>query</th>\n",
       "      <th>search_page</th>\n",
       "      <th>position</th>\n",
       "      <th>title</th>\n",
       "      <th>concatenated_tags</th>\n",
       "      <th>creation_date</th>\n",
       "      <th>price</th>\n",
       "      <th>weight</th>\n",
       "      <th>express_delivery</th>\n",
       "      <th>minimum_quantity</th>\n",
       "      <th>view_counts</th>\n",
       "      <th>order_counts</th>\n",
       "    </tr>\n",
       "  </thead>\n",
       "  <tbody>\n",
       "    <tr>\n",
       "      <th>28878</th>\n",
       "      <td>7903614</td>\n",
       "      <td>9377206</td>\n",
       "      <td>dia dos pais</td>\n",
       "      <td>1</td>\n",
       "      <td>24</td>\n",
       "      <td>Chinelo Dia dos Pais 2ª linha</td>\n",
       "      <td>chinelo dia pais dora personalizado dia pais p...</td>\n",
       "      <td>2018-06-28 18:24:50</td>\n",
       "      <td>14.160000</td>\n",
       "      <td>287.0</td>\n",
       "      <td>1</td>\n",
       "      <td>20</td>\n",
       "      <td>476</td>\n",
       "      <td>27.0</td>\n",
       "    </tr>\n",
       "    <tr>\n",
       "      <th>28879</th>\n",
       "      <td>11573689</td>\n",
       "      <td>9377206</td>\n",
       "      <td>lembrancinha masculina</td>\n",
       "      <td>2</td>\n",
       "      <td>2</td>\n",
       "      <td>Chinelo dia Dos professores 2ª linha</td>\n",
       "      <td>chinelo dia professores dia professores</td>\n",
       "      <td>2018-06-28 18:31:08</td>\n",
       "      <td>15.059999</td>\n",
       "      <td>289.0</td>\n",
       "      <td>1</td>\n",
       "      <td>20</td>\n",
       "      <td>137</td>\n",
       "      <td>24.0</td>\n",
       "    </tr>\n",
       "  </tbody>\n",
       "</table>\n",
       "</div>"
      ],
      "text/plain": [
       "       product_id  seller_id  ... view_counts  order_counts\n",
       "28878     7903614    9377206  ...         476          27.0\n",
       "28879    11573689    9377206  ...         137          24.0\n",
       "\n",
       "[2 rows x 14 columns]"
      ]
     },
     "execution_count": 50,
     "metadata": {
      "tags": []
     },
     "output_type": "execute_result"
    }
   ],
   "source": [
    "X_train.tail(2)"
   ]
  },
  {
   "cell_type": "code",
   "execution_count": 51,
   "metadata": {
    "colab": {
     "base_uri": "https://localhost:8080/",
     "height": 301
    },
    "executionInfo": {
     "elapsed": 242,
     "status": "ok",
     "timestamp": 1624329813815,
     "user": {
      "displayName": "Lucas Buk Cardoso",
      "photoUrl": "",
      "userId": "13718893696373545505"
     },
     "user_tz": 180
    },
    "id": "JCJ_Lx3idVZt",
    "outputId": "d740b5bc-bd79-4d8b-8542-7f426d4c7f0d"
   },
   "outputs": [
    {
     "data": {
      "text/html": [
       "<div>\n",
       "<style scoped>\n",
       "    .dataframe tbody tr th:only-of-type {\n",
       "        vertical-align: middle;\n",
       "    }\n",
       "\n",
       "    .dataframe tbody tr th {\n",
       "        vertical-align: top;\n",
       "    }\n",
       "\n",
       "    .dataframe thead th {\n",
       "        text-align: right;\n",
       "    }\n",
       "</style>\n",
       "<table border=\"1\" class=\"dataframe\">\n",
       "  <thead>\n",
       "    <tr style=\"text-align: right;\">\n",
       "      <th></th>\n",
       "      <th>product_id</th>\n",
       "      <th>seller_id</th>\n",
       "      <th>query</th>\n",
       "      <th>search_page</th>\n",
       "      <th>position</th>\n",
       "      <th>title</th>\n",
       "      <th>concatenated_tags</th>\n",
       "      <th>creation_date</th>\n",
       "      <th>price</th>\n",
       "      <th>weight</th>\n",
       "      <th>express_delivery</th>\n",
       "      <th>minimum_quantity</th>\n",
       "      <th>view_counts</th>\n",
       "      <th>order_counts</th>\n",
       "    </tr>\n",
       "  </thead>\n",
       "  <tbody>\n",
       "    <tr>\n",
       "      <th>28880</th>\n",
       "      <td>8428008</td>\n",
       "      <td>9159926</td>\n",
       "      <td>forma para placa cimento 3d</td>\n",
       "      <td>1</td>\n",
       "      <td>35</td>\n",
       "      <td>Forma em Silicone p/ Gesso 3D Malm | Medusa 29x29</td>\n",
       "      <td>placas</td>\n",
       "      <td>2018-06-28 18:38:49</td>\n",
       "      <td>95.41</td>\n",
       "      <td>2000.0</td>\n",
       "      <td>0</td>\n",
       "      <td>10</td>\n",
       "      <td>125</td>\n",
       "      <td>21.0</td>\n",
       "    </tr>\n",
       "    <tr>\n",
       "      <th>28881</th>\n",
       "      <td>4233862</td>\n",
       "      <td>6341935</td>\n",
       "      <td>saquinho maternidade</td>\n",
       "      <td>3</td>\n",
       "      <td>4</td>\n",
       "      <td>6 Saquinhos Maternidade com viés Azul Marinho Poá</td>\n",
       "      <td>saquinhos maternidade</td>\n",
       "      <td>2018-06-28 18:56:26</td>\n",
       "      <td>119.07</td>\n",
       "      <td>42.0</td>\n",
       "      <td>1</td>\n",
       "      <td>6</td>\n",
       "      <td>230</td>\n",
       "      <td>6.0</td>\n",
       "    </tr>\n",
       "  </tbody>\n",
       "</table>\n",
       "</div>"
      ],
      "text/plain": [
       "       product_id  seller_id  ... view_counts  order_counts\n",
       "28880     8428008    9159926  ...         125          21.0\n",
       "28881     4233862    6341935  ...         230           6.0\n",
       "\n",
       "[2 rows x 14 columns]"
      ]
     },
     "execution_count": 51,
     "metadata": {
      "tags": []
     },
     "output_type": "execute_result"
    }
   ],
   "source": [
    "X_test.head(2)"
   ]
  },
  {
   "cell_type": "markdown",
   "metadata": {
    "id": "ptNgIzSULnQZ"
   },
   "source": [
    "## **Treinando o Modelo com NLP**\n",
    "\n",
    "---"
   ]
  },
  {
   "cell_type": "markdown",
   "metadata": {
    "id": "Zvp0Bo49eqzl"
   },
   "source": [
    "Resolvemos usar o NLP para classificar o dataframe, pois gostaríamos de ver uma forma mais automática para classificação e ver como um IA se comportaria para classificar o dataframe, uma vez que o NLP é muito usado e recomendado para classificar palavras. "
   ]
  },
  {
   "cell_type": "code",
   "execution_count": 63,
   "metadata": {
    "executionInfo": {
     "elapsed": 238,
     "status": "ok",
     "timestamp": 1624331134265,
     "user": {
      "displayName": "Lucas Buk Cardoso",
      "photoUrl": "",
      "userId": "13718893696373545505"
     },
     "user_tz": 180
    },
    "id": "_3CSsNxaIBnQ",
    "tags": []
   },
   "outputs": [],
   "source": [
    "# Criando um modelo vazio em português\n",
    "nlp = spacy.blank(\"pt\")\n",
    "\n",
    "# Criando um Categorizador de Texto com classe exclusiva e arquitetura \"bow\" \n",
    "textcat = nlp.create_pipe(\"textcat\", config={\"exclusive_classes\": True, \"architecture\": \"bow\"})\n",
    "\n",
    "# Adicioando o Categorizador de Texto para o modelo vazio\n",
    "nlp.add_pipe(textcat)"
   ]
  },
  {
   "cell_type": "code",
   "execution_count": 64,
   "metadata": {
    "colab": {
     "base_uri": "https://localhost:8080/"
    },
    "executionInfo": {
     "elapsed": 238,
     "status": "ok",
     "timestamp": 1624331135710,
     "user": {
      "displayName": "Lucas Buk Cardoso",
      "photoUrl": "",
      "userId": "13718893696373545505"
     },
     "user_tz": 180
    },
    "id": "uTlgbZSnKl_w",
    "outputId": "c84f98d6-87ca-423f-cd2b-390537e15bc7"
   },
   "outputs": [
    {
     "data": {
      "text/plain": [
       "array(['Decoração', 'Papel e Cia', 'Outros', 'Bebê', 'Lembrancinhas',\n",
       "       'Bijuterias e Jóias'], dtype=object)"
      ]
     },
     "execution_count": 64,
     "metadata": {
      "tags": []
     },
     "output_type": "execute_result"
    }
   ],
   "source": [
    "# Exibição das categorias para colocar no TextCat, na célula abaixo\n",
    "df.category.unique()"
   ]
  },
  {
   "cell_type": "code",
   "execution_count": 65,
   "metadata": {
    "colab": {
     "base_uri": "https://localhost:8080/"
    },
    "executionInfo": {
     "elapsed": 6,
     "status": "ok",
     "timestamp": 1624331136782,
     "user": {
      "displayName": "Lucas Buk Cardoso",
      "photoUrl": "",
      "userId": "13718893696373545505"
     },
     "user_tz": 180
    },
    "id": "a1tI7VCEKmqv",
    "outputId": "277df3e9-3e9c-4c25-f8c8-8807a769472b"
   },
   "outputs": [
    {
     "data": {
      "text/plain": [
       "1"
      ]
     },
     "execution_count": 65,
     "metadata": {
      "tags": []
     },
     "output_type": "execute_result"
    }
   ],
   "source": [
    "# Adicionando as Categorias nos Textcat que serão usados para categorizar os objetos\n",
    "textcat.add_label(\"Lembrancinhas\")\n",
    "textcat.add_label(\"Decoração\")\n",
    "textcat.add_label(\"Bebê\")\n",
    "textcat.add_label(\"Papel e Cia\")\n",
    "textcat.add_label(\"Outros\")\n",
    "textcat.add_label(\"Bijuterias e Jóias\")"
   ]
  },
  {
   "cell_type": "code",
   "execution_count": 66,
   "metadata": {
    "executionInfo": {
     "elapsed": 249,
     "status": "ok",
     "timestamp": 1624331138208,
     "user": {
      "displayName": "Lucas Buk Cardoso",
      "photoUrl": "",
      "userId": "13718893696373545505"
     },
     "user_tz": 180
    },
    "id": "6pDIQTkfKqjb"
   },
   "outputs": [],
   "source": [
    "# Criando o train text e o train label\n",
    "train_texts = X_train['title'].values\n",
    "train_labels = [{'cats': {'Lembrancinhas': label == 'Lembrancinhas',\n",
    "                          'Decoração': label == 'Decoração',\n",
    "                          'Bebê': label == 'Bebê',\n",
    "                          'Papel e Cia': label == 'Papel e Cia',\n",
    "                          'Outros': label == 'Outros',\n",
    "                          'Bijuterias e Jóias': label == 'Bijuterias e Jóias'}} \n",
    "                for label in y_train]"
   ]
  },
  {
   "cell_type": "code",
   "execution_count": 67,
   "metadata": {
    "colab": {
     "base_uri": "https://localhost:8080/"
    },
    "executionInfo": {
     "elapsed": 241,
     "status": "ok",
     "timestamp": 1624331139403,
     "user": {
      "displayName": "Lucas Buk Cardoso",
      "photoUrl": "",
      "userId": "13718893696373545505"
     },
     "user_tz": 180
    },
    "id": "qQyGgc2gKu5d",
    "outputId": "43cffb86-03ad-412d-8333-40331dd860dc"
   },
   "outputs": [
    {
     "data": {
      "text/plain": [
       "[('Sacola kraft media c/ papel rendado',\n",
       "  {'cats': {'Bebê': False,\n",
       "    'Bijuterias e Jóias': False,\n",
       "    'Decoração': False,\n",
       "    'Lembrancinhas': False,\n",
       "    'Outros': False,\n",
       "    'Papel e Cia': True}}),\n",
       " ('CAIXA PORTA-CHÁ',\n",
       "  {'cats': {'Bebê': False,\n",
       "    'Bijuterias e Jóias': False,\n",
       "    'Decoração': False,\n",
       "    'Lembrancinhas': False,\n",
       "    'Outros': False,\n",
       "    'Papel e Cia': True}}),\n",
       " ('Lembrancinha batizado',\n",
       "  {'cats': {'Bebê': False,\n",
       "    'Bijuterias e Jóias': False,\n",
       "    'Decoração': False,\n",
       "    'Lembrancinhas': True,\n",
       "    'Outros': False,\n",
       "    'Papel e Cia': False}})]"
      ]
     },
     "execution_count": 67,
     "metadata": {
      "tags": []
     },
     "output_type": "execute_result"
    }
   ],
   "source": [
    "# Criando o train_data e vendo como que o ML está classificando os train texts (data de treino)\n",
    "train_data = list(zip(train_texts, train_labels))\n",
    "train_data[:3]"
   ]
  },
  {
   "cell_type": "code",
   "execution_count": 68,
   "metadata": {
    "collapsed": true,
    "executionInfo": {
     "elapsed": 60636,
     "status": "ok",
     "timestamp": 1624331202755,
     "user": {
      "displayName": "Lucas Buk Cardoso",
      "photoUrl": "",
      "userId": "13718893696373545505"
     },
     "user_tz": 180
    },
    "id": "JoaVBvD7KveX",
    "jupyter": {
     "outputs_hidden": true
    },
    "tags": []
   },
   "outputs": [],
   "source": [
    "# Configuramos as opções e otimizador para treinamento\n",
    "spacy.util.fix_random_seed(1)\n",
    "optimizer = nlp.begin_training()\n",
    "\n",
    "# Criando o batch generator com batch size = 8\n",
    "batches = minibatch(train_data, size=8)\n",
    "\n",
    "# Fazendo iteração pelo minibatches\n",
    "for batch in batches:\n",
    "    # Cada batch é uma lista de (text, label) mas precisamos para\n",
    "    # enviar listas separadas para texts e labels para atualizar().\n",
    "    # Esse é um rápido modo de dividir a lista de tuplas em listas\n",
    "    texts, labels = zip(*batch)\n",
    "    nlp.update(texts, labels, sgd=optimizer)"
   ]
  },
  {
   "cell_type": "code",
   "execution_count": 74,
   "metadata": {
    "colab": {
     "base_uri": "https://localhost:8080/"
    },
    "collapsed": true,
    "executionInfo": {
     "elapsed": 635184,
     "status": "ok",
     "timestamp": 1624332752939,
     "user": {
      "displayName": "Lucas Buk Cardoso",
      "photoUrl": "",
      "userId": "13718893696373545505"
     },
     "user_tz": 180
    },
    "id": "jBAgnW85KyHE",
    "jupyter": {
     "outputs_hidden": true
    },
    "outputId": "8bd17f12-e485-4cc7-c102-e9adc9b699d6",
    "tags": []
   },
   "outputs": [
    {
     "name": "stdout",
     "output_type": "stream",
     "text": [
      "{'textcat': 7.830881105787967}\n",
      "{'textcat': 14.996976087165535}\n",
      "{'textcat': 21.65462677146752}\n",
      "{'textcat': 27.94912649146775}\n",
      "{'textcat': 33.94455454352942}\n",
      "{'textcat': 39.6908329083094}\n",
      "{'textcat': 45.22216974170152}\n",
      "{'textcat': 50.58346143841814}\n",
      "{'textcat': 55.79192265830426}\n",
      "{'textcat': 60.87192695818993}\n"
     ]
    }
   ],
   "source": [
    "# Configuramos as opções e otimizador para treinamento, realizando 10 épocas  \n",
    "random.seed(0)\n",
    "spacy.util.fix_random_seed(1)\n",
    "optimizer = nlp.begin_training()\n",
    "\n",
    "losses = {}\n",
    "for epoch in range(10):\n",
    "    random.shuffle(train_data)\n",
    "    # Criando o batch generator com batch size = 8\n",
    "    batches = minibatch(train_data, size=8)\n",
    "    # Iteração pelo minibatches\n",
    "    for batch in batches:\n",
    "        # Cada batch é uma lista de (text, label) mas precisamos para\n",
    "        # enviar listas separadas para texts e labels para update().\n",
    "        # Esse é um rápido modo de dividir a lista de tuplas em listas\n",
    "        texts, labels = zip(*batch)\n",
    "        nlp.update(texts, labels, sgd=optimizer, losses=losses)\n",
    "        \n",
    "    print(losses)"
   ]
  },
  {
   "cell_type": "code",
   "execution_count": 75,
   "metadata": {
    "colab": {
     "base_uri": "https://localhost:8080/"
    },
    "collapsed": true,
    "executionInfo": {
     "elapsed": 887,
     "status": "ok",
     "timestamp": 1624332759871,
     "user": {
      "displayName": "Lucas Buk Cardoso",
      "photoUrl": "",
      "userId": "13718893696373545505"
     },
     "user_tz": 180
    },
    "id": "E_bg5mOoK9rD",
    "jupyter": {
     "outputs_hidden": true
    },
    "outputId": "96d292bd-bbfc-4c41-c0b7-ee546e66d90a",
    "tags": []
   },
   "outputs": [
    {
     "name": "stdout",
     "output_type": "stream",
     "text": [
      "[[3.5412869e-04 5.3373992e-01 4.0322685e-04 1.7412325e-02 4.4556990e-01\n",
      "  2.5204455e-03]\n",
      " [4.3116286e-04 1.0456661e-03 9.9820554e-01 4.4057739e-05 2.1318842e-04\n",
      "  6.0331993e-05]\n",
      " [4.3116286e-04 1.0456661e-03 9.9820554e-01 4.4057739e-05 2.1318842e-04\n",
      "  6.0331993e-05]\n",
      " ...\n",
      " [9.9772984e-01 1.4342616e-07 1.4697697e-06 2.2609653e-03 7.6207430e-06\n",
      "  2.0751945e-09]\n",
      " [1.0073170e-04 4.7734319e-03 9.8115367e-01 1.6731788e-04 1.3801916e-02\n",
      "  2.8101526e-06]\n",
      " [6.5727121e-01 4.1822526e-03 3.3596396e-01 1.8624503e-03 7.1250030e-04\n",
      "  7.6942169e-06]]\n"
     ]
    }
   ],
   "source": [
    "# Separando os textos de teste e transformando em valores numéricos \n",
    "texts = X_test['title']\n",
    "docs = [nlp.tokenizer(text) for text in texts]\n",
    "    \n",
    "# Usa o textcat para pegar os scores de cada doc\n",
    "textcat = nlp.get_pipe('textcat')\n",
    "scores, _ = textcat.predict(docs)\n",
    "\n",
    "print(scores)"
   ]
  },
  {
   "cell_type": "code",
   "execution_count": 76,
   "metadata": {
    "colab": {
     "base_uri": "https://localhost:8080/"
    },
    "collapsed": true,
    "executionInfo": {
     "elapsed": 359,
     "status": "ok",
     "timestamp": 1624332760972,
     "user": {
      "displayName": "Lucas Buk Cardoso",
      "photoUrl": "",
      "userId": "13718893696373545505"
     },
     "user_tz": 180
    },
    "id": "yUoSR4CRLKZk",
    "jupyter": {
     "outputs_hidden": true
    },
    "outputId": "2c78e4b9-147e-4d35-cf01-c56be7f7ff26",
    "tags": []
   },
   "outputs": [
    {
     "data": {
      "text/plain": [
       "['Decoração', 'Bebê', 'Bebê', 'Bebê', 'Lembrancinhas']"
      ]
     },
     "execution_count": 76,
     "metadata": {
      "tags": []
     },
     "output_type": "execute_result"
    }
   ],
   "source": [
    "# Pelos scores, achou-se o label com os mais altos scores/probabilidades  \n",
    "predicted_labels = scores.argmax(axis=1)\n",
    "cat_prev = []\n",
    "for label in predicted_labels: \n",
    "    cat_prev.append(textcat.labels[label])\n",
    "cat_prev[:5]"
   ]
  },
  {
   "cell_type": "markdown",
   "metadata": {
    "id": "WTxv4fjU54y5"
   },
   "source": [
    "## **Validando modelo**\n",
    "\n",
    "---"
   ]
  },
  {
   "cell_type": "code",
   "execution_count": 77,
   "metadata": {
    "colab": {
     "base_uri": "https://localhost:8080/",
     "height": 432
    },
    "executionInfo": {
     "elapsed": 506,
     "status": "ok",
     "timestamp": 1624332763511,
     "user": {
      "displayName": "Lucas Buk Cardoso",
      "photoUrl": "",
      "userId": "13718893696373545505"
     },
     "user_tz": 180
    },
    "id": "9CFnaUEBO8lN",
    "outputId": "b6ff5342-7e12-4826-9856-a939f7ef788b"
   },
   "outputs": [
    {
     "data": {
      "image/png": "[encoded data removed]",
      "text/plain": [
       "<Figure size 432x432 with 2 Axes>"
      ]
     },
     "metadata": {
      "needs_background": "light",
      "tags": []
     },
     "output_type": "display_data"
    }
   ],
   "source": [
    "# Criando a Matriz de Confusão para verificar como ficou o treinamento do meu modelo\n",
    "target_names = df.category.unique()\n",
    "cm = confusion_matrix(y_test, cat_prev)\n",
    "\n",
    "cmn = cm.astype('float') / cm.sum(axis=1)[:, np.newaxis]\n",
    "fig, ax = plt.subplots(figsize=(6,6))\n",
    "sns.heatmap(cmn, annot=True, fmt='.2f', xticklabels=target_names, yticklabels=target_names, square=True)\n",
    "plt.ylabel('Atual')\n",
    "plt.xlabel('Predito')\n",
    "plt.show(block=False)"
   ]
  },
  {
   "cell_type": "markdown",
   "metadata": {
    "id": "_e8pzT4_L4rL"
   },
   "source": [
    "## **Conclusão**\n",
    "\n",
    "Utilizando a biblioteca `spacy`, obteve-se um modelo com bom desempenho, assim como na primeira abordagem, mesmo somente com a coluna `title` e sem balancear os dados, visando que não foi realizado nenhum pré-processamento, pois a biblioteca já trata os dados textuais internamente. Vale ressaltar o tempo maior que é gasto no treinamento do modelo, em comparação aos três modelos utilizados anteriormente."
   ]
  }
 ],
 "metadata": {
  "accelerator": "GPU",
  "colab": {
   "collapsed_sections": [
    "seeing-azerbaijan",
    "dedicated-locking",
    "executed-pencil",
    "excess-mercy",
    "N9Wtnxkv4SgT",
    "killing-italic",
    "hncqOuQy5IBA",
    "regular-methodology",
    "responsible-object",
    "appropriate-surfing",
    "about-better",
    "hazardous-camcorder",
    "automated-perth",
    "hourly-phenomenon",
    "NAgY1PmP8TkD",
    "ParZ6q2_M3p7",
    "XzVPpaHxwV4T",
    "jb0n9PoJwacw",
    "macro-surrey",
    "controversial-acquisition",
    "-wX-WKr36-YT",
    "5KbJXycQ7Mcx",
    "kXNafBU80lXl",
    "cLxeUS0523nw",
    "YEEeqShDrh4D",
    "rsg_8sCPrh4E",
    "wZrqv1M9rh4K",
    "rN0S9QNbrh4K",
    "dated-raleigh",
    "ptNgIzSULnQZ",
    "WTxv4fjU54y5",
    "_e8pzT4_L4rL"
   ],
   "name": "Classification.ipynb",
   "provenance": []
  },
  "interpreter": {
   "hash": "8003219c8c57211ee3be347d121ba14ebad7276cdae3d94be72d9e4e17f9edd5"
  },
  "kernelspec": {
   "display_name": "Python 3",
   "language": "python",
   "name": "python3"
  },
  "language_info": {
   "codemirror_mode": {
    "name": "ipython",
    "version": 3
   },
   "file_extension": ".py",
   "mimetype": "text/x-python",
   "name": "python",
   "nbconvert_exporter": "python",
   "pygments_lexer": "ipython3",
   "version": "3.7.0"
  }
 },
 "nbformat": 4,
 "nbformat_minor": 4
}
